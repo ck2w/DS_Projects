{
 "cells": [
  {
   "cell_type": "markdown",
   "metadata": {},
   "source": [
    "# Problem description\n",
    "\n",
    "You are to predict whether a company will go bankrupt in the following year, based on financial attributes of the company.\n",
    "\n",
    "Perhaps you are contemplating lending money to a company, and need to know whether the company\n",
    "is in near-term danger of not being able to repay.\n"
   ]
  },
  {
   "cell_type": "markdown",
   "metadata": {},
   "source": [
    "## Goal"
   ]
  },
  {
   "cell_type": "markdown",
   "metadata": {
    "slideshow": {
     "slide_type": "fragment"
    }
   },
   "source": [
    "## Learning objectives\n",
    "\n",
    "- Demonstrate mastery on solving a classification problem and presenting\n",
    "the entire Recipe for Machine Learning process in a notebook.\n",
    "- We will make suggestions for ways to approach the problem\n",
    "    - But there will be little explicit direction for this task.\n",
    "- It is meant to be analogous to a pre-interview task that a potential employer might assign\n",
    "to verify your skill"
   ]
  },
  {
   "cell_type": "markdown",
   "metadata": {},
   "source": [
    "## Import modules"
   ]
  },
  {
   "cell_type": "code",
   "execution_count": 1,
   "metadata": {
    "ExecuteTime": {
     "end_time": "2020-10-28T08:14:49.520837Z",
     "start_time": "2020-10-28T08:14:48.532197Z"
    }
   },
   "outputs": [],
   "source": [
    "## Standard imports\n",
    "import numpy as np\n",
    "import pandas as pd\n",
    "import matplotlib.pyplot as plt\n",
    "import seaborn as sns\n",
    "sns.set_style(\"whitegrid\") \n",
    "\n",
    "import sklearn\n",
    "from sklearn.impute import SimpleImputer\n",
    "from sklearn.impute import KNNImputer\n",
    "from sklearn.model_selection import train_test_split\n",
    "\n",
    "import os\n",
    "import math\n",
    "\n",
    "import warnings\n",
    "warnings.filterwarnings(\"ignore\", category=FutureWarning)\n",
    "\n",
    "%matplotlib inline\n"
   ]
  },
  {
   "cell_type": "markdown",
   "metadata": {},
   "source": [
    "## API for students"
   ]
  },
  {
   "cell_type": "code",
   "execution_count": 2,
   "metadata": {
    "ExecuteTime": {
     "end_time": "2020-10-28T08:14:49.564590Z",
     "start_time": "2020-10-28T08:14:49.520837Z"
    }
   },
   "outputs": [],
   "source": [
    "## Load the bankruptcy_helper module\n",
    "\n",
    "from IPython.core.interactiveshell import InteractiveShell\n",
    "InteractiveShell.ast_node_interactivity = \"all\"\n",
    "\n",
    "# Reload all modules imported with %aimport\n",
    "%load_ext autoreload\n",
    "%autoreload 1\n",
    "\n",
    "# Import bankruptcy_helper module\n",
    "import bankruptcy_helper\n",
    "%aimport bankruptcy_helper\n",
    "\n",
    "helper = bankruptcy_helper.Helper()"
   ]
  },
  {
   "cell_type": "markdown",
   "metadata": {},
   "source": [
    "# Get the data\n",
    "\n",
    "The first step in our Recipe is Get the Data.\n",
    "\n",
    "- Each example is a row of data corresponding to a single company\n",
    "- There are 64 attributes, described in the section below\n",
    "- The column `Bankrupt` is 1 if the company subsequently went bankrupt; 0 if it did not go bankrupt\n",
    "- The column `Id` is a Company Identifier"
   ]
  },
  {
   "cell_type": "code",
   "execution_count": 3,
   "metadata": {
    "ExecuteTime": {
     "end_time": "2020-10-28T08:14:49.644620Z",
     "start_time": "2020-10-28T08:14:49.565589Z"
    }
   },
   "outputs": [
    {
     "name": "stdout",
     "output_type": "stream",
     "text": [
      "Date shape:  (4818, 66)\n"
     ]
    }
   ],
   "source": [
    "# Data directory\n",
    "DATA_DIR = \"./Data\"\n",
    "\n",
    "if not os.path.isdir(DATA_DIR):\n",
    "    DATA_DIR = \"../resource/asnlib/publicdata/bankruptcy/data\"\n",
    "\n",
    "data_file = \"5th_yr.csv\"\n",
    "data = pd.read_csv( os.path.join(DATA_DIR, \"train\", data_file) )\n",
    "\n",
    "target_attr = \"Bankrupt\"\n",
    "\n",
    "n_samples, n_attrs = data.shape\n",
    "print(\"Date shape: \", data.shape)"
   ]
  },
  {
   "cell_type": "markdown",
   "metadata": {},
   "source": [
    "## Have a look at the data\n",
    "\n",
    "We will not go through all steps in the Recipe, nor in depth.\n",
    "\n",
    "But here's a peek"
   ]
  },
  {
   "cell_type": "code",
   "execution_count": 4,
   "metadata": {
    "ExecuteTime": {
     "end_time": "2020-10-28T08:14:49.668625Z",
     "start_time": "2020-10-28T08:14:49.645615Z"
    }
   },
   "outputs": [
    {
     "data": {
      "text/html": [
       "<div>\n",
       "<style scoped>\n",
       "    .dataframe tbody tr th:only-of-type {\n",
       "        vertical-align: middle;\n",
       "    }\n",
       "\n",
       "    .dataframe tbody tr th {\n",
       "        vertical-align: top;\n",
       "    }\n",
       "\n",
       "    .dataframe thead th {\n",
       "        text-align: right;\n",
       "    }\n",
       "</style>\n",
       "<table border=\"1\" class=\"dataframe\">\n",
       "  <thead>\n",
       "    <tr style=\"text-align: right;\">\n",
       "      <th></th>\n",
       "      <th>X1</th>\n",
       "      <th>X2</th>\n",
       "      <th>X3</th>\n",
       "      <th>X4</th>\n",
       "      <th>X5</th>\n",
       "      <th>X6</th>\n",
       "      <th>X7</th>\n",
       "      <th>X8</th>\n",
       "      <th>X9</th>\n",
       "      <th>X10</th>\n",
       "      <th>...</th>\n",
       "      <th>X57</th>\n",
       "      <th>X58</th>\n",
       "      <th>X59</th>\n",
       "      <th>X60</th>\n",
       "      <th>X61</th>\n",
       "      <th>X62</th>\n",
       "      <th>X63</th>\n",
       "      <th>X64</th>\n",
       "      <th>Bankrupt</th>\n",
       "      <th>Id</th>\n",
       "    </tr>\n",
       "  </thead>\n",
       "  <tbody>\n",
       "    <tr>\n",
       "      <th>0</th>\n",
       "      <td>0.025417</td>\n",
       "      <td>0.41769</td>\n",
       "      <td>0.0568</td>\n",
       "      <td>1.1605</td>\n",
       "      <td>-126.39</td>\n",
       "      <td>0.41355</td>\n",
       "      <td>0.025417</td>\n",
       "      <td>1.2395</td>\n",
       "      <td>1.16500</td>\n",
       "      <td>0.51773</td>\n",
       "      <td>...</td>\n",
       "      <td>0.049094</td>\n",
       "      <td>0.85835</td>\n",
       "      <td>0.12322</td>\n",
       "      <td>5.6167</td>\n",
       "      <td>7.4042</td>\n",
       "      <td>164.310</td>\n",
       "      <td>2.2214</td>\n",
       "      <td>1.334</td>\n",
       "      <td>0</td>\n",
       "      <td>4510</td>\n",
       "    </tr>\n",
       "    <tr>\n",
       "      <th>1</th>\n",
       "      <td>-0.023834</td>\n",
       "      <td>0.2101</td>\n",
       "      <td>0.50839</td>\n",
       "      <td>4.2374</td>\n",
       "      <td>22.034</td>\n",
       "      <td>0.058412</td>\n",
       "      <td>-0.027621</td>\n",
       "      <td>3.6579</td>\n",
       "      <td>0.98183</td>\n",
       "      <td>0.76855</td>\n",
       "      <td>...</td>\n",
       "      <td>-0.031011</td>\n",
       "      <td>1.01850</td>\n",
       "      <td>0.069047</td>\n",
       "      <td>5.7996</td>\n",
       "      <td>7.7529</td>\n",
       "      <td>26.446</td>\n",
       "      <td>13.802</td>\n",
       "      <td>6.4782</td>\n",
       "      <td>0</td>\n",
       "      <td>3537</td>\n",
       "    </tr>\n",
       "    <tr>\n",
       "      <th>2</th>\n",
       "      <td>0.030515</td>\n",
       "      <td>0.44606</td>\n",
       "      <td>0.19569</td>\n",
       "      <td>1.565</td>\n",
       "      <td>35.766</td>\n",
       "      <td>0.28196</td>\n",
       "      <td>0.039264</td>\n",
       "      <td>0.88456</td>\n",
       "      <td>1.05260</td>\n",
       "      <td>0.39457</td>\n",
       "      <td>...</td>\n",
       "      <td>0.077337</td>\n",
       "      <td>0.95006</td>\n",
       "      <td>0.25266</td>\n",
       "      <td>15.049</td>\n",
       "      <td>2.8179</td>\n",
       "      <td>104.730</td>\n",
       "      <td>3.4852</td>\n",
       "      <td>2.6361</td>\n",
       "      <td>0</td>\n",
       "      <td>3920</td>\n",
       "    </tr>\n",
       "    <tr>\n",
       "      <th>3</th>\n",
       "      <td>0.052318</td>\n",
       "      <td>0.056366</td>\n",
       "      <td>0.54562</td>\n",
       "      <td>10.68</td>\n",
       "      <td>438.2</td>\n",
       "      <td>0.13649</td>\n",
       "      <td>0.058164</td>\n",
       "      <td>10.853</td>\n",
       "      <td>1.02790</td>\n",
       "      <td>0.61173</td>\n",
       "      <td>...</td>\n",
       "      <td>0.085524</td>\n",
       "      <td>0.97282</td>\n",
       "      <td>0</td>\n",
       "      <td>6.0157</td>\n",
       "      <td>7.4626</td>\n",
       "      <td>48.756</td>\n",
       "      <td>7.4863</td>\n",
       "      <td>1.0602</td>\n",
       "      <td>0</td>\n",
       "      <td>1806</td>\n",
       "    </tr>\n",
       "    <tr>\n",
       "      <th>4</th>\n",
       "      <td>0.000992</td>\n",
       "      <td>0.49712</td>\n",
       "      <td>0.12316</td>\n",
       "      <td>1.3036</td>\n",
       "      <td>-71.398</td>\n",
       "      <td>0</td>\n",
       "      <td>0.001007</td>\n",
       "      <td>1.0116</td>\n",
       "      <td>1.29210</td>\n",
       "      <td>0.50288</td>\n",
       "      <td>...</td>\n",
       "      <td>0.001974</td>\n",
       "      <td>0.99925</td>\n",
       "      <td>0.019736</td>\n",
       "      <td>3.4819</td>\n",
       "      <td>8.582</td>\n",
       "      <td>114.580</td>\n",
       "      <td>3.1854</td>\n",
       "      <td>2.742</td>\n",
       "      <td>0</td>\n",
       "      <td>1529</td>\n",
       "    </tr>\n",
       "  </tbody>\n",
       "</table>\n",
       "<p>5 rows × 66 columns</p>\n",
       "</div>"
      ],
      "text/plain": [
       "          X1        X2       X3      X4       X5        X6         X7  \\\n",
       "0   0.025417   0.41769   0.0568  1.1605  -126.39   0.41355   0.025417   \n",
       "1  -0.023834    0.2101  0.50839  4.2374   22.034  0.058412  -0.027621   \n",
       "2   0.030515   0.44606  0.19569   1.565   35.766   0.28196   0.039264   \n",
       "3   0.052318  0.056366  0.54562   10.68    438.2   0.13649   0.058164   \n",
       "4   0.000992   0.49712  0.12316  1.3036  -71.398         0   0.001007   \n",
       "\n",
       "        X8       X9      X10  ...        X57      X58       X59     X60  \\\n",
       "0   1.2395  1.16500  0.51773  ...   0.049094  0.85835   0.12322  5.6167   \n",
       "1   3.6579  0.98183  0.76855  ...  -0.031011  1.01850  0.069047  5.7996   \n",
       "2  0.88456  1.05260  0.39457  ...   0.077337  0.95006   0.25266  15.049   \n",
       "3   10.853  1.02790  0.61173  ...   0.085524  0.97282         0  6.0157   \n",
       "4   1.0116  1.29210  0.50288  ...   0.001974  0.99925  0.019736  3.4819   \n",
       "\n",
       "      X61      X62     X63     X64  Bankrupt    Id  \n",
       "0  7.4042  164.310  2.2214   1.334         0  4510  \n",
       "1  7.7529   26.446  13.802  6.4782         0  3537  \n",
       "2  2.8179  104.730  3.4852  2.6361         0  3920  \n",
       "3  7.4626   48.756  7.4863  1.0602         0  1806  \n",
       "4   8.582  114.580  3.1854   2.742         0  1529  \n",
       "\n",
       "[5 rows x 66 columns]"
      ]
     },
     "execution_count": 4,
     "metadata": {},
     "output_type": "execute_result"
    }
   ],
   "source": [
    "data.head()"
   ]
  },
  {
   "cell_type": "markdown",
   "metadata": {},
   "source": [
    "Pretty *unhelpful* !\n",
    "\n",
    "What are these mysteriously named features ?\n",
    "\n",
    "## Description of attributes"
   ]
  },
  {
   "cell_type": "raw",
   "metadata": {},
   "source": [
    "Attribute Information:\n",
    "\n",
    "Id Company Identifier \n",
    "X1 net profit / total assets\n",
    "X2 total liabilities / total assets\n",
    "X3 working capital / total assets\n",
    "X4 current assets / short-term liabilities\n",
    "X5 [(cash + short-term securities + receivables - short-term liabilities) / (operating expenses - depreciation)] * 365\n",
    "X6 retained earnings / total assets\n",
    "X7 EBIT / total assets\n",
    "X8 book value of equity / total liabilities\n",
    "X9 sales / total assets\n",
    "X10 equity / total assets\n",
    "X11 (gross profit + extraordinary items + financial expenses) / total assets\n",
    "X12 gross profit / short-term liabilities\n",
    "X13 (gross profit + depreciation) / sales\n",
    "X14 (gross profit + interest) / total assets\n",
    "X15 (total liabilities * 365) / (gross profit + depreciation)\n",
    "X16 (gross profit + depreciation) / total liabilities\n",
    "X17 total assets / total liabilities\n",
    "X18 gross profit / total assets\n",
    "X19 gross profit / sales\n",
    "X20 (inventory * 365) / sales\n",
    "X21 sales (n) / sales (n-1)\n",
    "X22 profit on operating activities / total assets\n",
    "X23 net profit / sales\n",
    "X24 gross profit (in 3 years) / total assets\n",
    "X25 (equity - share capital) / total assets\n",
    "X26 (net profit + depreciation) / total liabilities\n",
    "X27 profit on operating activities / financial expenses\n",
    "X28 working capital / fixed assets\n",
    "X29 logarithm of total assets\n",
    "X30 (total liabilities - cash) / sales\n",
    "X31 (gross profit + interest) / sales\n",
    "X32 (current liabilities * 365) / cost of products sold\n",
    "X33 operating expenses / short-term liabilities\n",
    "X34 operating expenses / total liabilities\n",
    "X35 profit on sales / total assets\n",
    "X36 total sales / total assets\n",
    "X37 (current assets - inventories) / long-term liabilities\n",
    "X38 constant capital / total assets\n",
    "X39 profit on sales / sales\n",
    "X40 (current assets - inventory - receivables) / short-term liabilities\n",
    "X41 total liabilities / ((profit on operating activities + depreciation) * (12/365))\n",
    "X42 profit on operating activities / sales\n",
    "X43 rotation receivables + inventory turnover in days\n",
    "X44 (receivables * 365) / sales\n",
    "X45 net profit / inventory\n",
    "X46 (current assets - inventory) / short-term liabilities\n",
    "X47 (inventory * 365) / cost of products sold\n",
    "X48 EBITDA (profit on operating activities - depreciation) / total assets\n",
    "X49 EBITDA (profit on operating activities - depreciation) / sales\n",
    "X50 current assets / total liabilities\n",
    "X51 short-term liabilities / total assets\n",
    "X52 (short-term liabilities * 365) / cost of products sold)\n",
    "X53 equity / fixed assets\n",
    "X54 constant capital / fixed assets\n",
    "X55 working capital\n",
    "X56 (sales - cost of products sold) / sales\n",
    "X57 (current assets - inventory - short-term liabilities) / (sales - gross profit - depreciation)\n",
    "X58 total costs /total sales\n",
    "X59 long-term liabilities / equity\n",
    "X60 sales / inventory\n",
    "X61 sales / receivables\n",
    "X62 (short-term liabilities *365) / sales\n",
    "X63 sales / short-term liabilities\n",
    "X64 sales / fixed assets\n"
   ]
  },
  {
   "cell_type": "markdown",
   "metadata": {},
   "source": [
    "This may still be somewhat unhelpful for those of you not used to reading Financial Statements.\n",
    "\n",
    "But that's partially the point of the exercise\n",
    "- You can *still* perform Machine Learning *even if* you are not an expert in the problem domain\n",
    "    - That's what makes this a good interview exercise: you can demonstrate your thought process even if you don't know the exact meaning of the terms\n",
    "- Of course: becoming an expert in the domain *will improve* your ability to create better models\n",
    "    - Feature engineering is easier if you understand the features, their inter-relationships, and the relationship to the target"
   ]
  },
  {
   "cell_type": "markdown",
   "metadata": {},
   "source": [
    "Let's get a feel for the data\n",
    "- What is the type of each attribute ?\n"
   ]
  },
  {
   "cell_type": "code",
   "execution_count": 5,
   "metadata": {
    "ExecuteTime": {
     "end_time": "2020-10-28T08:14:49.693615Z",
     "start_time": "2020-10-28T08:14:49.669615Z"
    }
   },
   "outputs": [
    {
     "name": "stdout",
     "output_type": "stream",
     "text": [
      "<class 'pandas.core.frame.DataFrame'>\n",
      "RangeIndex: 4818 entries, 0 to 4817\n",
      "Data columns (total 66 columns):\n",
      " #   Column    Non-Null Count  Dtype  \n",
      "---  ------    --------------  -----  \n",
      " 0   X1        4818 non-null   object \n",
      " 1   X2        4818 non-null   object \n",
      " 2   X3        4818 non-null   object \n",
      " 3   X4        4818 non-null   object \n",
      " 4   X5        4818 non-null   object \n",
      " 5   X6        4818 non-null   object \n",
      " 6   X7        4818 non-null   object \n",
      " 7   X8        4818 non-null   object \n",
      " 8   X9        4818 non-null   float64\n",
      " 9   X10       4818 non-null   object \n",
      " 10  X11       4818 non-null   object \n",
      " 11  X12       4818 non-null   object \n",
      " 12  X13       4818 non-null   float64\n",
      " 13  X14       4818 non-null   object \n",
      " 14  X15       4818 non-null   object \n",
      " 15  X16       4818 non-null   object \n",
      " 16  X17       4818 non-null   object \n",
      " 17  X18       4818 non-null   object \n",
      " 18  X19       4818 non-null   float64\n",
      " 19  X20       4818 non-null   float64\n",
      " 20  X21       4818 non-null   object \n",
      " 21  X22       4818 non-null   object \n",
      " 22  X23       4818 non-null   float64\n",
      " 23  X24       4818 non-null   object \n",
      " 24  X25       4818 non-null   object \n",
      " 25  X26       4818 non-null   object \n",
      " 26  X27       4818 non-null   object \n",
      " 27  X28       4818 non-null   object \n",
      " 28  X29       4818 non-null   object \n",
      " 29  X30       4818 non-null   float64\n",
      " 30  X31       4818 non-null   float64\n",
      " 31  X32       4818 non-null   object \n",
      " 32  X33       4818 non-null   object \n",
      " 33  X34       4818 non-null   object \n",
      " 34  X35       4818 non-null   object \n",
      " 35  X36       4818 non-null   object \n",
      " 36  X37       4818 non-null   object \n",
      " 37  X38       4818 non-null   object \n",
      " 38  X39       4818 non-null   float64\n",
      " 39  X40       4818 non-null   object \n",
      " 40  X41       4818 non-null   object \n",
      " 41  X42       4818 non-null   float64\n",
      " 42  X43       4818 non-null   float64\n",
      " 43  X44       4818 non-null   float64\n",
      " 44  X45       4818 non-null   object \n",
      " 45  X46       4818 non-null   object \n",
      " 46  X47       4818 non-null   object \n",
      " 47  X48       4818 non-null   object \n",
      " 48  X49       4818 non-null   float64\n",
      " 49  X50       4818 non-null   object \n",
      " 50  X51       4818 non-null   object \n",
      " 51  X52       4818 non-null   object \n",
      " 52  X53       4818 non-null   object \n",
      " 53  X54       4818 non-null   object \n",
      " 54  X55       4818 non-null   float64\n",
      " 55  X56       4818 non-null   float64\n",
      " 56  X57       4818 non-null   object \n",
      " 57  X58       4818 non-null   float64\n",
      " 58  X59       4818 non-null   object \n",
      " 59  X60       4818 non-null   object \n",
      " 60  X61       4818 non-null   object \n",
      " 61  X62       4818 non-null   float64\n",
      " 62  X63       4818 non-null   object \n",
      " 63  X64       4818 non-null   object \n",
      " 64  Bankrupt  4818 non-null   int64  \n",
      " 65  Id        4818 non-null   int64  \n",
      "dtypes: float64(16), int64(2), object(48)\n",
      "memory usage: 2.4+ MB\n"
     ]
    }
   ],
   "source": [
    "data.info()"
   ]
  },
  {
   "cell_type": "markdown",
   "metadata": {},
   "source": [
    "You may be puzzled:\n",
    "- Most attributes are `object` and *not* numeric (`float64`)\n",
    "- But looking at the data via `data.head()` certainly gives the impression that all attributes are numeric\n",
    "\n",
    "Welcome to the world of messy data !  The dataset has represented numbers as strings.\n",
    "- These little unexpected challenges are common in the real-word\n",
    "- Data is rarely perfect and clean"
   ]
  },
  {
   "cell_type": "markdown",
   "metadata": {},
   "source": [
    "So you might want to first convert all attributes to numeric\n",
    "\n",
    "**Hint**\n",
    "- Look up the Pandas method `to_numeric`\n",
    "    - We suggest you use the option `errors='coerce'`\n",
    "    "
   ]
  },
  {
   "cell_type": "code",
   "execution_count": 6,
   "metadata": {
    "ExecuteTime": {
     "end_time": "2020-10-28T08:14:49.900677Z",
     "start_time": "2020-10-28T08:14:49.694619Z"
    }
   },
   "outputs": [
    {
     "name": "stdout",
     "output_type": "stream",
     "text": [
      "<class 'pandas.core.frame.DataFrame'>\n",
      "RangeIndex: 4818 entries, 0 to 4817\n",
      "Data columns (total 66 columns):\n",
      " #   Column    Non-Null Count  Dtype  \n",
      "---  ------    --------------  -----  \n",
      " 0   X1        4816 non-null   float64\n",
      " 1   X2        4816 non-null   float64\n",
      " 2   X3        4816 non-null   float64\n",
      " 3   X4        4803 non-null   float64\n",
      " 4   X5        4808 non-null   float64\n",
      " 5   X6        4816 non-null   float64\n",
      " 6   X7        4816 non-null   float64\n",
      " 7   X8        4804 non-null   float64\n",
      " 8   X9        4818 non-null   float64\n",
      " 9   X10       4816 non-null   float64\n",
      " 10  X11       4816 non-null   float64\n",
      " 11  X12       4803 non-null   float64\n",
      " 12  X13       4818 non-null   float64\n",
      " 13  X14       4816 non-null   float64\n",
      " 14  X15       4812 non-null   float64\n",
      " 15  X16       4804 non-null   float64\n",
      " 16  X17       4804 non-null   float64\n",
      " 17  X18       4816 non-null   float64\n",
      " 18  X19       4818 non-null   float64\n",
      " 19  X20       4818 non-null   float64\n",
      " 20  X21       4744 non-null   float64\n",
      " 21  X22       4816 non-null   float64\n",
      " 22  X23       4818 non-null   float64\n",
      " 23  X24       4702 non-null   float64\n",
      " 24  X25       4816 non-null   float64\n",
      " 25  X26       4804 non-null   float64\n",
      " 26  X27       4513 non-null   float64\n",
      " 27  X28       4735 non-null   float64\n",
      " 28  X29       4816 non-null   float64\n",
      " 29  X30       4818 non-null   float64\n",
      " 30  X31       4818 non-null   float64\n",
      " 31  X32       4776 non-null   float64\n",
      " 32  X33       4803 non-null   float64\n",
      " 33  X34       4804 non-null   float64\n",
      " 34  X35       4816 non-null   float64\n",
      " 35  X36       4816 non-null   float64\n",
      " 36  X37       2750 non-null   float64\n",
      " 37  X38       4816 non-null   float64\n",
      " 38  X39       4818 non-null   float64\n",
      " 39  X40       4803 non-null   float64\n",
      " 40  X41       4756 non-null   float64\n",
      " 41  X42       4818 non-null   float64\n",
      " 42  X43       4818 non-null   float64\n",
      " 43  X44       4818 non-null   float64\n",
      " 44  X45       4598 non-null   float64\n",
      " 45  X46       4803 non-null   float64\n",
      " 46  X47       4787 non-null   float64\n",
      " 47  X48       4816 non-null   float64\n",
      " 48  X49       4818 non-null   float64\n",
      " 49  X50       4804 non-null   float64\n",
      " 50  X51       4816 non-null   float64\n",
      " 51  X52       4786 non-null   float64\n",
      " 52  X53       4735 non-null   float64\n",
      " 53  X54       4735 non-null   float64\n",
      " 54  X55       4818 non-null   float64\n",
      " 55  X56       4818 non-null   float64\n",
      " 56  X57       4816 non-null   float64\n",
      " 57  X58       4818 non-null   float64\n",
      " 58  X59       4816 non-null   float64\n",
      " 59  X60       4598 non-null   float64\n",
      " 60  X61       4806 non-null   float64\n",
      " 61  X62       4818 non-null   float64\n",
      " 62  X63       4803 non-null   float64\n",
      " 63  X64       4735 non-null   float64\n",
      " 64  Bankrupt  4818 non-null   int64  \n",
      " 65  Id        4818 non-null   int64  \n",
      "dtypes: float64(64), int64(2)\n",
      "memory usage: 2.4 MB\n"
     ]
    }
   ],
   "source": [
    "for col in data:\n",
    "    data[col]=pd.to_numeric(data[col], errors='coerce')\n",
    "data.info()"
   ]
  },
  {
   "cell_type": "markdown",
   "metadata": {},
   "source": [
    "## Define performance measurement\n",
    "\n",
    "We will evaluate the model on the holdout examples using metrics\n",
    "- Accuracy\n",
    "- Recall\n",
    "- Precision\n",
    "\n",
    "From our lecture: we may have to make a trade-off between Recall and Precision.\n",
    "\n",
    "Our evaluation of the submission will be partially based on how you made (and described) the trade-off.\n",
    "\n",
    "We may assume that it is 5 times worse to *fail to identify a company that will go bankrupt*\n",
    "than it is to fail to identify a company that won't go bankrupt."
   ]
  },
  {
   "cell_type": "markdown",
   "metadata": {},
   "source": [
    "## Train test split"
   ]
  },
  {
   "cell_type": "code",
   "execution_count": 7,
   "metadata": {
    "ExecuteTime": {
     "end_time": "2020-10-28T08:14:49.911674Z",
     "start_time": "2020-10-28T08:14:49.901677Z"
    }
   },
   "outputs": [],
   "source": [
    "X = data.drop(columns=['Bankrupt', 'Id'])\n",
    "y = data['Bankrupt']\n",
    "X_train, X_test, y_train, y_test = train_test_split(X, y, test_size=0.2, random_state=0)"
   ]
  },
  {
   "cell_type": "markdown",
   "metadata": {},
   "source": [
    "# Exploratory Data Analysis"
   ]
  },
  {
   "cell_type": "markdown",
   "metadata": {},
   "source": [
    "## Check the distribution of target value"
   ]
  },
  {
   "cell_type": "markdown",
   "metadata": {},
   "source": [
    "This is a highly imbalanced dataset. Companies that didn't go bankrupcy is 15 times higher than those went bankrupcy.\n",
    "\n",
    "We will handle the imbalanced data later."
   ]
  },
  {
   "cell_type": "code",
   "execution_count": 8,
   "metadata": {
    "ExecuteTime": {
     "end_time": "2020-10-28T08:14:50.022698Z",
     "start_time": "2020-10-28T08:14:49.913674Z"
    }
   },
   "outputs": [
    {
     "name": "stdout",
     "output_type": "stream",
     "text": [
      "Class 0: 3609\n",
      "Class 1: 245\n",
      "Proportion: 14.73 : 1\n"
     ]
    },
    {
     "data": {
      "image/png": "[encoded data removed]",
      "text/plain": [
       "<Figure size 432x288 with 1 Axes>"
      ]
     },
     "metadata": {
      "needs_background": "light"
     },
     "output_type": "display_data"
    }
   ],
   "source": [
    "target_count = y_train.value_counts()\n",
    "print('Class 0:', target_count[0])\n",
    "print('Class 1:', target_count[1])\n",
    "print('Proportion:', round(target_count[0] / target_count[1], 2), ': 1')\n",
    "\n",
    "target_count.plot(kind='bar', title='Count (target)');"
   ]
  },
  {
   "cell_type": "markdown",
   "metadata": {},
   "source": [
    "## Correlation matrix"
   ]
  },
  {
   "cell_type": "markdown",
   "metadata": {},
   "source": [
    "At first sight, there are many squares showing significant the correlation is amog the variables. For example, [X1, X3, X7, X10, X11] are highly correlated. Actually, this correlation is so strong that it can indicate a situation of multicollinearity.\n",
    "\n",
    "Another thing was the **Bankrupt** correlations. We can see few variables have strong correlation with target value."
   ]
  },
  {
   "cell_type": "code",
   "execution_count": 9,
   "metadata": {
    "ExecuteTime": {
     "end_time": "2020-10-28T08:14:51.470076Z",
     "start_time": "2020-10-28T08:14:50.025689Z"
    }
   },
   "outputs": [
    {
     "data": {
      "image/png": "[encoded data removed]",
      "text/plain": [
       "<Figure size 1440x1008 with 2 Axes>"
      ]
     },
     "metadata": {
      "needs_background": "light"
     },
     "output_type": "display_data"
    }
   ],
   "source": [
    "df = X_train.copy()\n",
    "df['Bankrupt'] = y_train\n",
    "corrmat = df.corr()\n",
    "f, ax = plt.subplots(figsize=(20, 14))\n",
    "sns.heatmap(corrmat, vmax=.8, square=True);\n"
   ]
  },
  {
   "cell_type": "markdown",
   "metadata": {
    "ExecuteTime": {
     "end_time": "2020-10-27T08:00:13.549240Z",
     "start_time": "2020-10-27T08:00:13.538243Z"
    }
   },
   "source": [
    "# Prepare the data"
   ]
  },
  {
   "cell_type": "markdown",
   "metadata": {},
   "source": [
    "## Cleaning: handle missing data"
   ]
  },
  {
   "cell_type": "markdown",
   "metadata": {
    "ExecuteTime": {
     "end_time": "2020-10-27T05:45:19.134077Z",
     "start_time": "2020-10-27T05:45:19.118445Z"
    }
   },
   "source": [
    "### Remove columns that has large percentage of NaNs"
   ]
  },
  {
   "cell_type": "markdown",
   "metadata": {},
   "source": [
    "We find that some features were sparse and might not be helpful in the model. In this way, we will remove those features."
   ]
  },
  {
   "cell_type": "code",
   "execution_count": 10,
   "metadata": {
    "ExecuteTime": {
     "end_time": "2020-10-28T08:14:51.680358Z",
     "start_time": "2020-10-28T08:14:51.471169Z"
    }
   },
   "outputs": [
    {
     "data": {
      "text/plain": [
       "<Figure size 864x432 with 0 Axes>"
      ]
     },
     "execution_count": 10,
     "metadata": {},
     "output_type": "execute_result"
    },
    {
     "data": {
      "text/plain": [
       "Text(0.5, 1.0, 'Sparsity of data')"
      ]
     },
     "execution_count": 10,
     "metadata": {},
     "output_type": "execute_result"
    },
    {
     "data": {
      "text/plain": [
       "[<matplotlib.lines.Line2D at 0x24142481508>]"
      ]
     },
     "execution_count": 10,
     "metadata": {},
     "output_type": "execute_result"
    },
    {
     "data": {
      "text/plain": [
       "<matplotlib.legend.Legend at 0x2414372e9c8>"
      ]
     },
     "execution_count": 10,
     "metadata": {},
     "output_type": "execute_result"
    },
    {
     "data": {
      "text/plain": [
       "Text(0.5, 0, '# Column')"
      ]
     },
     "execution_count": 10,
     "metadata": {},
     "output_type": "execute_result"
    },
    {
     "data": {
      "text/plain": [
       "Text(0, 0.5, 'Percent of NaNs for Given Column')"
      ]
     },
     "execution_count": 10,
     "metadata": {},
     "output_type": "execute_result"
    },
    {
     "data": {
      "image/png": "[encoded data removed]",
      "text/plain": [
       "<Figure size 864x432 with 1 Axes>"
      ]
     },
     "metadata": {
      "needs_background": "light"
     },
     "output_type": "display_data"
    }
   ],
   "source": [
    "# check sparsity of column data\n",
    "def check_sparsity_columns(df):\n",
    "    sparsity = df.isna().mean() \n",
    "    return sparsity\n",
    "\n",
    "column_sparsity = check_sparsity_columns(X_train)\n",
    "\n",
    "plt.figure(figsize=(12,6))\n",
    "plt.title('Sparsity of data')\n",
    "plt.plot(column_sparsity.values, label='NaN percentage')\n",
    "plt.legend()\n",
    "plt.xlabel('# Column')\n",
    "plt.ylabel('Percent of NaNs for Given Column')"
   ]
  },
  {
   "cell_type": "code",
   "execution_count": 11,
   "metadata": {
    "ExecuteTime": {
     "end_time": "2020-10-28T08:14:51.691344Z",
     "start_time": "2020-10-28T08:14:51.682359Z"
    }
   },
   "outputs": [
    {
     "name": "stdout",
     "output_type": "stream",
     "text": [
      "Remove columns due to sparsity: Index(['X37'], dtype='object')\n"
     ]
    }
   ],
   "source": [
    "# remove sparse columns\n",
    "remove_threshold = 0.2\n",
    "remove_columns = column_sparsity[column_sparsity>remove_threshold].index\n",
    "print('Remove columns due to sparsity: {}'.format(remove_columns))\n",
    "\n",
    "X_train = X_train.drop(columns=remove_columns)\n",
    "X_test = X_test.drop(columns=remove_columns)"
   ]
  },
  {
   "cell_type": "markdown",
   "metadata": {},
   "source": [
    "### Remove rows that has large percentage of NaNs"
   ]
  },
  {
   "cell_type": "markdown",
   "metadata": {},
   "source": [
    "For some data points, large portion of features are NaNs. We will ignore those data points."
   ]
  },
  {
   "cell_type": "code",
   "execution_count": 12,
   "metadata": {
    "ExecuteTime": {
     "end_time": "2020-10-28T08:14:51.713362Z",
     "start_time": "2020-10-28T08:14:51.693342Z"
    }
   },
   "outputs": [
    {
     "name": "stdout",
     "output_type": "stream",
     "text": [
      "Percent of Removed Rows: 0.0007784120394395433\n",
      "X_train shape:  (3851, 63)\n",
      "y_train shape:  (3851,)\n"
     ]
    }
   ],
   "source": [
    "# check sparsity of row data and remove sparse rows\n",
    "def check_sparsity_rows(df, remove_threshold=0.3):\n",
    "    remove_row = list(df[df.isnull().mean(axis=1) > remove_threshold].index)\n",
    "    keep_row = list(df[df.isnull().mean(axis=1) <= remove_threshold].index)\n",
    "\n",
    "    print('Percent of Removed Rows: {}'.format(len(remove_row)/df.shape[0]))    \n",
    "    \n",
    "    return keep_row\n",
    "keep_row = check_sparsity_rows(X_train, remove_threshold=0.3)\n",
    "X_train = X_train.loc[keep_row, :]\n",
    "y_train = y_train.loc[keep_row]\n",
    "print(\"X_train shape: \", X_train.shape)\n",
    "print(\"y_train shape: \", y_train.shape)"
   ]
  },
  {
   "cell_type": "markdown",
   "metadata": {},
   "source": [
    "### Imputation of missing values"
   ]
  },
  {
   "cell_type": "markdown",
   "metadata": {},
   "source": [
    "We will first use univariate imputation algorithms, which imputes values in the i-th feature dimension using only non-missing values in that feature dimension.\n",
    "\n",
    "Since the features are financial indicator and the mean is meaningful, we use univariate imputator to fill missing values."
   ]
  },
  {
   "cell_type": "code",
   "execution_count": 13,
   "metadata": {
    "ExecuteTime": {
     "end_time": "2020-10-28T08:14:51.734371Z",
     "start_time": "2020-10-28T08:14:51.715368Z"
    }
   },
   "outputs": [],
   "source": [
    "univariate_columns = X_train.columns\n",
    "   \n",
    "imputer_uni = SimpleImputer(missing_values=np.nan, strategy='mean')\n",
    "X_train[univariate_columns] = imputer_uni.fit_transform(X_train[univariate_columns])\n",
    "X_test[univariate_columns] = imputer_uni.transform(X_test[univariate_columns])"
   ]
  },
  {
   "cell_type": "markdown",
   "metadata": {},
   "source": [
    "Here we will use multivariate imputation algorithms to estimate other the missing values."
   ]
  },
  {
   "cell_type": "code",
   "execution_count": 14,
   "metadata": {
    "ExecuteTime": {
     "end_time": "2020-10-28T08:14:51.764374Z",
     "start_time": "2020-10-28T08:14:51.736356Z"
    }
   },
   "outputs": [
    {
     "data": {
      "text/html": [
       "<div>\n",
       "<style scoped>\n",
       "    .dataframe tbody tr th:only-of-type {\n",
       "        vertical-align: middle;\n",
       "    }\n",
       "\n",
       "    .dataframe tbody tr th {\n",
       "        vertical-align: top;\n",
       "    }\n",
       "\n",
       "    .dataframe thead th {\n",
       "        text-align: right;\n",
       "    }\n",
       "</style>\n",
       "<table border=\"1\" class=\"dataframe\">\n",
       "  <thead>\n",
       "    <tr style=\"text-align: right;\">\n",
       "      <th></th>\n",
       "      <th>X1</th>\n",
       "      <th>X2</th>\n",
       "      <th>X3</th>\n",
       "      <th>X4</th>\n",
       "      <th>X5</th>\n",
       "      <th>X6</th>\n",
       "      <th>X7</th>\n",
       "      <th>X8</th>\n",
       "      <th>X9</th>\n",
       "      <th>X10</th>\n",
       "      <th>...</th>\n",
       "      <th>X55</th>\n",
       "      <th>X56</th>\n",
       "      <th>X57</th>\n",
       "      <th>X58</th>\n",
       "      <th>X59</th>\n",
       "      <th>X60</th>\n",
       "      <th>X61</th>\n",
       "      <th>X62</th>\n",
       "      <th>X63</th>\n",
       "      <th>X64</th>\n",
       "    </tr>\n",
       "  </thead>\n",
       "  <tbody>\n",
       "    <tr>\n",
       "      <th>1011</th>\n",
       "      <td>0.038369</td>\n",
       "      <td>0.75192</td>\n",
       "      <td>0.158290</td>\n",
       "      <td>1.25610</td>\n",
       "      <td>-145.050</td>\n",
       "      <td>-0.010509</td>\n",
       "      <td>0.049303</td>\n",
       "      <td>0.33019</td>\n",
       "      <td>1.18750</td>\n",
       "      <td>0.24827</td>\n",
       "      <td>...</td>\n",
       "      <td>227.14</td>\n",
       "      <td>0.055751</td>\n",
       "      <td>0.154550</td>\n",
       "      <td>0.94495</td>\n",
       "      <td>0.541250</td>\n",
       "      <td>1.9972</td>\n",
       "      <td>17.0840</td>\n",
       "      <td>189.970</td>\n",
       "      <td>1.9214</td>\n",
       "      <td>5.3059</td>\n",
       "    </tr>\n",
       "    <tr>\n",
       "      <th>2063</th>\n",
       "      <td>0.030155</td>\n",
       "      <td>0.66965</td>\n",
       "      <td>0.340290</td>\n",
       "      <td>2.45130</td>\n",
       "      <td>82.879</td>\n",
       "      <td>0.130020</td>\n",
       "      <td>0.039204</td>\n",
       "      <td>0.48170</td>\n",
       "      <td>1.07940</td>\n",
       "      <td>0.32257</td>\n",
       "      <td>...</td>\n",
       "      <td>49597.00</td>\n",
       "      <td>0.073596</td>\n",
       "      <td>0.093483</td>\n",
       "      <td>0.92640</td>\n",
       "      <td>1.349100</td>\n",
       "      <td>12.9210</td>\n",
       "      <td>5.4860</td>\n",
       "      <td>84.343</td>\n",
       "      <td>4.3276</td>\n",
       "      <td>2.3863</td>\n",
       "    </tr>\n",
       "    <tr>\n",
       "      <th>2898</th>\n",
       "      <td>-0.008349</td>\n",
       "      <td>0.65765</td>\n",
       "      <td>-0.073715</td>\n",
       "      <td>0.83291</td>\n",
       "      <td>-172.640</td>\n",
       "      <td>-0.033460</td>\n",
       "      <td>-0.015940</td>\n",
       "      <td>0.30968</td>\n",
       "      <td>1.03370</td>\n",
       "      <td>0.20366</td>\n",
       "      <td>...</td>\n",
       "      <td>-13598.00</td>\n",
       "      <td>0.032582</td>\n",
       "      <td>-0.040994</td>\n",
       "      <td>0.96742</td>\n",
       "      <td>1.062900</td>\n",
       "      <td>3.2773</td>\n",
       "      <td>6.6665</td>\n",
       "      <td>231.370</td>\n",
       "      <td>1.5776</td>\n",
       "      <td>1.1003</td>\n",
       "    </tr>\n",
       "    <tr>\n",
       "      <th>113</th>\n",
       "      <td>0.138460</td>\n",
       "      <td>0.07828</td>\n",
       "      <td>0.508770</td>\n",
       "      <td>8.55170</td>\n",
       "      <td>206.180</td>\n",
       "      <td>0.000000</td>\n",
       "      <td>0.138460</td>\n",
       "      <td>11.77500</td>\n",
       "      <td>0.86611</td>\n",
       "      <td>0.92172</td>\n",
       "      <td>...</td>\n",
       "      <td>2369.20</td>\n",
       "      <td>0.143550</td>\n",
       "      <td>0.150220</td>\n",
       "      <td>0.84392</td>\n",
       "      <td>0.011835</td>\n",
       "      <td>7.6556</td>\n",
       "      <td>4.1827</td>\n",
       "      <td>28.392</td>\n",
       "      <td>12.8560</td>\n",
       "      <td>2.0434</td>\n",
       "    </tr>\n",
       "    <tr>\n",
       "      <th>1098</th>\n",
       "      <td>-0.002828</td>\n",
       "      <td>0.22518</td>\n",
       "      <td>0.760790</td>\n",
       "      <td>4.43780</td>\n",
       "      <td>52.846</td>\n",
       "      <td>0.000000</td>\n",
       "      <td>0.003116</td>\n",
       "      <td>3.44090</td>\n",
       "      <td>2.30470</td>\n",
       "      <td>0.77482</td>\n",
       "      <td>...</td>\n",
       "      <td>2148.00</td>\n",
       "      <td>0.002692</td>\n",
       "      <td>-0.003649</td>\n",
       "      <td>0.99866</td>\n",
       "      <td>0.000000</td>\n",
       "      <td>5.4463</td>\n",
       "      <td>10.0060</td>\n",
       "      <td>35.048</td>\n",
       "      <td>10.4140</td>\n",
       "      <td>128.7200</td>\n",
       "    </tr>\n",
       "  </tbody>\n",
       "</table>\n",
       "<p>5 rows × 63 columns</p>\n",
       "</div>"
      ],
      "text/plain": [
       "            X1       X2        X3       X4       X5        X6        X7  \\\n",
       "1011  0.038369  0.75192  0.158290  1.25610 -145.050 -0.010509  0.049303   \n",
       "2063  0.030155  0.66965  0.340290  2.45130   82.879  0.130020  0.039204   \n",
       "2898 -0.008349  0.65765 -0.073715  0.83291 -172.640 -0.033460 -0.015940   \n",
       "113   0.138460  0.07828  0.508770  8.55170  206.180  0.000000  0.138460   \n",
       "1098 -0.002828  0.22518  0.760790  4.43780   52.846  0.000000  0.003116   \n",
       "\n",
       "            X8       X9      X10  ...       X55       X56       X57      X58  \\\n",
       "1011   0.33019  1.18750  0.24827  ...    227.14  0.055751  0.154550  0.94495   \n",
       "2063   0.48170  1.07940  0.32257  ...  49597.00  0.073596  0.093483  0.92640   \n",
       "2898   0.30968  1.03370  0.20366  ... -13598.00  0.032582 -0.040994  0.96742   \n",
       "113   11.77500  0.86611  0.92172  ...   2369.20  0.143550  0.150220  0.84392   \n",
       "1098   3.44090  2.30470  0.77482  ...   2148.00  0.002692 -0.003649  0.99866   \n",
       "\n",
       "           X59      X60      X61      X62      X63       X64  \n",
       "1011  0.541250   1.9972  17.0840  189.970   1.9214    5.3059  \n",
       "2063  1.349100  12.9210   5.4860   84.343   4.3276    2.3863  \n",
       "2898  1.062900   3.2773   6.6665  231.370   1.5776    1.1003  \n",
       "113   0.011835   7.6556   4.1827   28.392  12.8560    2.0434  \n",
       "1098  0.000000   5.4463  10.0060   35.048  10.4140  128.7200  \n",
       "\n",
       "[5 rows x 63 columns]"
      ]
     },
     "execution_count": 14,
     "metadata": {},
     "output_type": "execute_result"
    }
   ],
   "source": [
    "imputer_multi = KNNImputer(n_neighbors=5, weights=\"uniform\")\n",
    "\n",
    "X_train[X_train.columns] = imputer_multi.fit_transform(X_train[X_train.columns])\n",
    "X_test[X_test.columns] = imputer_multi.transform(X_test[X_test.columns])\n",
    "X_test.head()"
   ]
  },
  {
   "cell_type": "markdown",
   "metadata": {},
   "source": [
    "## Handle imbalanced data"
   ]
  },
  {
   "cell_type": "markdown",
   "metadata": {},
   "source": [
    "We consider several ways to handle imbalanced data problem:\n",
    "    \n",
    "**1. Under-sampling:** Since the data amount we have is small, if we under-sampling the dataset, the useful data are drop too much.\n",
    "\n",
    "**2. Over-sampling:** This might be a usefull way to handle the problem. But the data amount with bankrupt=1 is so small that it is less helpful. We will use this method here.\n",
    "\n",
    "**3. Loss sensitive training:** We can adjust the loss function to weight conditional probabilities easily. **Therefore we will use this method later in our models.**"
   ]
  },
  {
   "cell_type": "code",
   "execution_count": 15,
   "metadata": {
    "ExecuteTime": {
     "end_time": "2020-10-28T08:14:51.877395Z",
     "start_time": "2020-10-28T08:14:51.765366Z"
    }
   },
   "outputs": [
    {
     "name": "stdout",
     "output_type": "stream",
     "text": [
      "Random over-sampling:\n",
      "1    3607\n",
      "0    3607\n",
      "Name: Bankrupt, dtype: int64\n"
     ]
    },
    {
     "data": {
      "text/plain": [
       "<matplotlib.axes._subplots.AxesSubplot at 0x24142f33108>"
      ]
     },
     "execution_count": 15,
     "metadata": {},
     "output_type": "execute_result"
    },
    {
     "data": {
      "image/png": "[encoded data removed]",
      "text/plain": [
       "<Figure size 432x288 with 1 Axes>"
      ]
     },
     "metadata": {
      "needs_background": "light"
     },
     "output_type": "display_data"
    }
   ],
   "source": [
    "# Over-sampling class count\n",
    "def over_sampling(X_train, y_train):\n",
    "    count_class_0, count_class_1 = y_train.value_counts()\n",
    "\n",
    "    X_class_0 = X_train[y_train == 0]\n",
    "    X_class_1 = X_train[y_train == 1]\n",
    "    y_class_0 = y_train[y_train == 0]\n",
    "    y_class_1 = y_train[y_train == 1]\n",
    "\n",
    "    X_class_1_over = X_class_1.sample(count_class_0, replace=True)\n",
    "    y_class_1_over = y_class_1.sample(count_class_0, replace=True)\n",
    "\n",
    "    X_train_over = pd.concat([X_class_0, X_class_1_over], axis=0)\n",
    "    y_train_over = pd.concat([y_class_0, y_class_1_over], axis=0)\n",
    "    return X_train_over, y_train_over\n",
    "\n",
    "X_train_over, y_train_over = over_sampling(X_train, y_train)\n",
    "\n",
    "print('Random over-sampling:')\n",
    "print(y_train_over.value_counts())\n",
    "\n",
    "y_train_over.value_counts().plot(kind='bar', title='Count (target)')"
   ]
  },
  {
   "cell_type": "markdown",
   "metadata": {},
   "source": [
    "## Transformation and feature engineering"
   ]
  },
  {
   "cell_type": "markdown",
   "metadata": {},
   "source": [
    "### Scaling"
   ]
  },
  {
   "cell_type": "markdown",
   "metadata": {},
   "source": [
    "From EDA we find that many of the features have extreme values, therefore we have to use scale the features."
   ]
  },
  {
   "cell_type": "code",
   "execution_count": 16,
   "metadata": {
    "ExecuteTime": {
     "end_time": "2020-10-28T08:14:51.883392Z",
     "start_time": "2020-10-28T08:14:51.879397Z"
    }
   },
   "outputs": [],
   "source": [
    "from sklearn.preprocessing import StandardScaler, RobustScaler\n",
    "\n",
    "scaler = StandardScaler()"
   ]
  },
  {
   "cell_type": "markdown",
   "metadata": {},
   "source": [
    "### PCA to reduce feature dimension"
   ]
  },
  {
   "cell_type": "markdown",
   "metadata": {},
   "source": [
    "As we have discovered before, many features are highly correlated and bring multicollinearity problem. We can reduce the demension of the features using PCA."
   ]
  },
  {
   "cell_type": "code",
   "execution_count": 17,
   "metadata": {
    "ExecuteTime": {
     "end_time": "2020-10-28T08:14:52.152500Z",
     "start_time": "2020-10-28T08:14:51.885394Z"
    }
   },
   "outputs": [
    {
     "name": "stdout",
     "output_type": "stream",
     "text": [
      "5 has a cumulative explained variane of: 0.998190554885772\n"
     ]
    },
    {
     "data": {
      "image/png": "[encoded data removed]",
      "text/plain": [
       "<Figure size 864x432 with 1 Axes>"
      ]
     },
     "metadata": {
      "needs_background": "light"
     },
     "output_type": "display_data"
    }
   ],
   "source": [
    "from sklearn.decomposition import PCA\n",
    "\n",
    "def scree_plot(pca_estimator):\n",
    "\n",
    "    num_components = len(pca_estimator.explained_variance_ratio_)\n",
    "    ind = np.arange(num_components)\n",
    "    vals = pca_estimator.explained_variance_ratio_\n",
    " \n",
    "    plt.figure(figsize=(12, 6))\n",
    "    ax = plt.subplot(111)\n",
    "    cumvals = np.cumsum(vals)\n",
    "    ax.bar(ind, vals)\n",
    "    ax.plot(ind, cumvals)\n",
    "    \n",
    "    ax.xaxis.set_tick_params(width=0)\n",
    "    ax.yaxis.set_tick_params(width=2, length=12)\n",
    " \n",
    "    ax.set_xlabel(\"Principal Component\")\n",
    "    ax.set_ylabel(\"Variance Explained (%)\")\n",
    "    plt.title('Explained Variance Per Principal Component')\n",
    "    \n",
    "pca = PCA(n_components = .999)\n",
    "X_train_pca = pca.fit_transform(X_train)\n",
    "X_test_pca = pca.transform(X_test)\n",
    "\n",
    "scree_plot(pca)\n",
    "\n",
    "n_components = 5\n",
    "print(f'{n_components} has a cumulative explained variane of: {sum(pca.explained_variance_ratio_[:n_components])}')"
   ]
  },
  {
   "cell_type": "markdown",
   "metadata": {},
   "source": [
    "The plots above show that the explained variance plateaus a couple of times. The first and sharpest drop-off is around 2 components. \n",
    "\n",
    "Then we will have a look at the components for each principle component."
   ]
  },
  {
   "cell_type": "code",
   "execution_count": 18,
   "metadata": {
    "ExecuteTime": {
     "end_time": "2020-10-28T08:14:52.938074Z",
     "start_time": "2020-10-28T08:14:52.153501Z"
    }
   },
   "outputs": [
    {
     "data": {
      "image/png": "[encoded data removed]",
      "text/plain": [
       "<Figure size 720x432 with 1 Axes>"
      ]
     },
     "metadata": {
      "needs_background": "light"
     },
     "output_type": "display_data"
    },
    {
     "data": {
      "image/png": "[encoded data removed]",
      "text/plain": [
       "<Figure size 720x432 with 1 Axes>"
      ]
     },
     "metadata": {
      "needs_background": "light"
     },
     "output_type": "display_data"
    },
    {
     "data": {
      "image/png": "[encoded data removed]",
      "text/plain": [
       "<Figure size 720x432 with 1 Axes>"
      ]
     },
     "metadata": {
      "needs_background": "light"
     },
     "output_type": "display_data"
    },
    {
     "data": {
      "image/png": "[encoded data removed]",
      "text/plain": [
       "<Figure size 720x432 with 1 Axes>"
      ]
     },
     "metadata": {
      "needs_background": "light"
     },
     "output_type": "display_data"
    },
    {
     "data": {
      "image/png": "[encoded data removed]",
      "text/plain": [
       "<Figure size 720x432 with 1 Axes>"
      ]
     },
     "metadata": {
      "needs_background": "light"
     },
     "output_type": "display_data"
    }
   ],
   "source": [
    "def display_component(v, features_list, component_num, n_weights=10):\n",
    "    \n",
    "    # get index of component (last row - component_num)\n",
    "    row_idx = component_num - 1\n",
    "\n",
    "    # get the list of weights from a row in v, dataframe\n",
    "    v_1_row = v[row_idx]\n",
    "    v_1 = np.squeeze(v_1_row)\n",
    "\n",
    "    # match weights to features in counties_scaled dataframe, using list comporehension\n",
    "    comps = pd.DataFrame(list(zip(v_1, features_list)), \n",
    "                         columns=['weights', 'features'])\n",
    "\n",
    "    # we'll want to sort by the largest n_weights\n",
    "    # weights can be neg/pos and we'll sort by magnitude\n",
    "    comps['abs_weights']=comps['weights'].apply(lambda x: np.abs(x))\n",
    "    sorted_weight_data = comps.sort_values('abs_weights', ascending=False).head(n_weights)\n",
    "\n",
    "    # display using seaborn\n",
    "    ax=plt.subplots(figsize=(10,6))\n",
    "    ax=sns.barplot(data=sorted_weight_data, \n",
    "                   x=\"weights\", \n",
    "                   y=\"features\", \n",
    "                   palette=\"Blues_d\")\n",
    "    ax.set_title(\"PCA Component Makeup, Component #\" + str(component_num))\n",
    "    plt.show()\n",
    "\n",
    "for num in range (1,6):\n",
    "    display_component(pca.components_, X_train.columns.values, component_num=num, n_weights=3)"
   ]
  },
  {
   "cell_type": "markdown",
   "metadata": {},
   "source": [
    "**Conclusion**\n",
    "\n",
    "We find that [X5, X27, X15, X32, X55] can explain most of the variance of the target. And we can use three principle components in our model later."
   ]
  },
  {
   "cell_type": "markdown",
   "metadata": {},
   "source": [
    "# Model training\n",
    "\n",
    "We will test the model with the measument **accuracy, precision, recall**.\n",
    "\n",
    "To measure the trade-off between precision and recall, we will also use **F-beta score** with beta=2 because it is 5 times worse to fail to identify a company that will go bankrupt than it is to fail to identify a company that won't go bankrupt. F-beta score help use to put more weights on recall. "
   ]
  },
  {
   "cell_type": "code",
   "execution_count": 19,
   "metadata": {
    "ExecuteTime": {
     "end_time": "2020-10-28T08:14:53.046077Z",
     "start_time": "2020-10-28T08:14:52.940084Z"
    }
   },
   "outputs": [
    {
     "name": "stdout",
     "output_type": "stream",
     "text": [
      "X_train shape:  (3851, 63)\n",
      "X_test shape:  (964, 63)\n",
      "y_train shape:  (3851,)\n",
      "y_test shape:  (964,)\n"
     ]
    }
   ],
   "source": [
    "from sklearn.linear_model import LogisticRegression\n",
    "from sklearn.naive_bayes import GaussianNB\n",
    "from sklearn.tree import DecisionTreeClassifier\n",
    "from sklearn.neural_network import MLPClassifier\n",
    "from sklearn.neighbors import KNeighborsClassifier\n",
    "from sklearn.svm import SVC\n",
    "from sklearn.gaussian_process import GaussianProcessClassifier\n",
    "from sklearn.gaussian_process.kernels import RBF\n",
    "from sklearn.ensemble import RandomForestClassifier, AdaBoostClassifier\n",
    "from sklearn.discriminant_analysis import QuadraticDiscriminantAnalysis\n",
    "from sklearn.ensemble import GradientBoostingClassifier\n",
    "\n",
    "from sklearn.ensemble import VotingClassifier\n",
    "\n",
    "from sklearn.pipeline import Pipeline\n",
    "from sklearn.metrics import accuracy_score, precision_score, recall_score, fbeta_score, confusion_matrix, roc_auc_score, roc_curve, auc\n",
    "from sklearn.model_selection import train_test_split, cross_val_score\n",
    "\n",
    "from sklearn.utils.testing import ignore_warnings\n",
    "from sklearn.exceptions import ConvergenceWarning\n",
    "\n",
    "cross_validation_k = 5\n",
    "\n",
    "print(\"X_train shape: \", X_train.shape)\n",
    "print(\"X_test shape: \", X_test.shape)\n",
    "print(\"y_train shape: \", y_train.shape)\n",
    "print(\"y_test shape: \", y_test.shape)"
   ]
  },
  {
   "cell_type": "markdown",
   "metadata": {},
   "source": [
    "All the models are tested using the same process."
   ]
  },
  {
   "cell_type": "code",
   "execution_count": 20,
   "metadata": {
    "ExecuteTime": {
     "end_time": "2020-10-28T08:14:53.061081Z",
     "start_time": "2020-10-28T08:14:53.048078Z"
    }
   },
   "outputs": [],
   "source": [
    "@ignore_warnings(category=ConvergenceWarning)\n",
    "def test_model(X_train, X_test, y_train, y_test, test_pipelilne, name, cv=False, show_confusion=False, roc_curve=False):\n",
    "    \n",
    "    test_pipelilne.fit(X_train, y_train)\n",
    "    y_train_predict = test_pipelilne.predict(X_train)\n",
    "\n",
    "    accuracy_is = accuracy_score(y_train, y_train_predict)\n",
    "    precision_is = precision_score(y_train, y_train_predict, pos_label=1, average=\"binary\")\n",
    "    recall_is = recall_score(y_train, y_train_predict, pos_label=1, average=\"binary\")\n",
    "    fbeta_is = fbeta_score(y_train, y_train_predict, beta=2, pos_label=1, average=\"binary\")\n",
    "\n",
    "    print(\"Model: {m:s} in-sample Accuracy: {a:3.1%}, Recall: {r:3.1%}, Precision: {p:3.1%},\\\n",
    "          F-beta {f:3.1%}\".format(m=name, a=accuracy_is, r=recall_is, p=precision_is, f=fbeta_is))\n",
    "\n",
    "    if cv:\n",
    "        cross_val_scores = cross_val_score(test_pipelilne, X_train, y_train, cv=cross_validation_k)\n",
    "        print(\"Model: {m:s} avg cross validation accuracy={s:3.2f}\".format(m=name, s=cross_val_scores.mean()))\n",
    "\n",
    "    y_test_predict = test_pipelilne.predict(X_test)\n",
    "\n",
    "    accuracy_oos = accuracy_score(y_test, y_test_predict)\n",
    "    precision_oos = precision_score(y_test, y_test_predict, pos_label=1, average=\"binary\")\n",
    "    recall_oos = recall_score(y_test, y_test_predict, pos_label=1, average=\"binary\")\n",
    "    fbeta_oos = fbeta_score(y_test, y_test_predict, beta=2, pos_label=1, average=\"binary\")\n",
    "    \n",
    "    print(\"Model: {m:s} out-of-sample Accuracy: {a:3.1%}, Recall: {r:3.1%}, Precision: {p:3.1%},\\\n",
    "          F-beta: {f:3.1%}\".format(m=name, a=accuracy_oos, r=recall_oos, p=precision_oos, f=fbeta_oos))\n",
    "    \n",
    "    if show_confusion:\n",
    "        mat = confusion_matrix(y_test, y_test_predict)\n",
    "        sns.heatmap(mat.T, square=True, annot=True, fmt='d',cbar=False, xticklabels=np.unique(y),yticklabels=np.unique(y))\n",
    "        plt.xlabel('true label')\n",
    "        plt.ylabel('predicted label')\n",
    "        plt.show()\n",
    "    if roc_curve:\n",
    "        plot_roc_curve_(test_pipelilne, X=X_test, y=y_test)\n",
    "    \n",
    "    return test_pipelilne\n",
    "\n",
    "def plot_roc_curve_(clf, X, y):  \n",
    "    probs = clf.predict_proba(X)  \n",
    "    probs = probs[:, 1]\n",
    "\n",
    "    fpr, tpr, thresholds = roc_curve(y, probs)\n",
    "    auc_a = auc(fpr, tpr)\n",
    "    plt.figure()\n",
    "    lw = 2\n",
    "    plt.plot(fpr, tpr, color='darkorange',\n",
    "             lw=lw, label='ROC curve (area = %0.3f)' % auc_a )\n",
    "    plt.plot([0, 1], [0, 1], color='navy', lw=lw, linestyle='--')\n",
    "    plt.xlim([0.0, 1.0])\n",
    "    plt.ylim([0.0, 1.05])\n",
    "    plt.xlabel('False Positive Rate')\n",
    "    plt.ylabel('True Positive Rate')\n",
    "    plt.title('Receiver Operating Characteristic')\n",
    "    plt.legend(loc=\"lower right\")\n",
    "    plt.show()"
   ]
  },
  {
   "cell_type": "markdown",
   "metadata": {},
   "source": [
    "## Benchmark model: logistics regression\n",
    "\n",
    "With logistic model, we will apply the following variations:\n",
    "1. Logisitc regression with original class weight from train data.\n",
    "2. Logistic regression with balanced class weight.\n",
    "3. Logistic regression with balanced class weight and regularization.\n",
    "4. Logistic model with balanced class weight and PCA components.\n",
    "5. Logistic model with balanced datasets."
   ]
  },
  {
   "cell_type": "code",
   "execution_count": 21,
   "metadata": {
    "ExecuteTime": {
     "end_time": "2020-10-28T08:14:54.068088Z",
     "start_time": "2020-10-28T08:14:53.063065Z"
    }
   },
   "outputs": [
    {
     "name": "stdout",
     "output_type": "stream",
     "text": [
      " 1. logistic model with unbalanced class weight:\n",
      "Model: Logistic in-sample Accuracy: 93.6%, Recall: 5.7%, Precision: 48.3%,          F-beta 7.0%\n",
      "Model: Logistic out-of-sample Accuracy: 93.4%, Recall: 11.1%, Precision: 46.7%,          F-beta: 13.1%\n"
     ]
    },
    {
     "data": {
      "image/png": "[encoded data removed]",
      "text/plain": [
       "<Figure size 432x288 with 1 Axes>"
      ]
     },
     "metadata": {
      "needs_background": "light"
     },
     "output_type": "display_data"
    },
    {
     "name": "stdout",
     "output_type": "stream",
     "text": [
      "\n",
      " 2. logistic model with balanced class weight:\n",
      "Model: Logistic in-sample Accuracy: 82.4%, Recall: 77.5%, Precision: 23.2%,          F-beta 52.8%\n",
      "Model: Logistic out-of-sample Accuracy: 79.3%, Recall: 58.7%, Precision: 17.5%,          F-beta: 40.0%\n",
      "\n",
      " 3. logistic model with balanced class weight and regularizaiton:\n",
      "Model: Logistic in-sample Accuracy: 79.2%, Recall: 70.9%, Precision: 19.2%,          F-beta 46.0%\n",
      "Model: Logistic out-of-sample Accuracy: 76.0%, Recall: 69.8%, Precision: 17.2%,          F-beta: 43.3%\n",
      "\n",
      " 4. logistic model with balanced class weight and PCA components:\n",
      "Model: Logistic in-sample Accuracy: 54.8%, Recall: 84.4%, Precision: 10.8%,          F-beta 35.7%\n",
      "Model: Logistic out-of-sample Accuracy: 54.4%, Recall: 81.0%, Precision: 10.6%,          F-beta: 34.9%\n",
      "\n",
      " 5. logistic model with balanced datasets:\n",
      "Model: Logistic in-sample Accuracy: 79.6%, Recall: 78.2%, Precision: 80.4%,          F-beta 78.7%\n",
      "Model: Logistic out-of-sample Accuracy: 77.9%, Recall: 65.1%, Precision: 17.7%,          F-beta: 42.4%\n"
     ]
    }
   ],
   "source": [
    "print(' 1. logistic model with unbalanced class weight:')\n",
    "name = 'Logistic'\n",
    "clf_logistic = LogisticRegression(solver='liblinear',max_iter=100)\n",
    "pipeline_logistic = Pipeline([\n",
    "    (\"scaler\", scaler), \n",
    "    (\"model\", clf_logistic)\n",
    "])\n",
    "pipeline_logistic = test_model(X_train, X_test, y_train, y_test, pipeline_logistic, name, cv=False, show_confusion=False, roc_curve=True)\n",
    "\n",
    "print('\\n 2. logistic model with balanced class weight:')\n",
    "clf_logistic = LogisticRegression(solver='liblinear',max_iter=100,class_weight='balanced')\n",
    "pipeline_logistic = Pipeline([\n",
    "    (\"scaler\", scaler), \n",
    "    (\"model\", clf_logistic)\n",
    "])\n",
    "pipeline_logistic = test_model(X_train, X_test, y_train, y_test, pipeline_logistic, name)\n",
    "\n",
    "\n",
    "print('\\n 3. logistic model with balanced class weight and regularizaiton:')\n",
    "clf_logistic = LogisticRegression(solver='liblinear',max_iter=100,class_weight='balanced',C=0.01)\n",
    "pipeline_logistic = Pipeline([\n",
    "    (\"scaler\", scaler), \n",
    "    (\"model\", clf_logistic)\n",
    "])\n",
    "pipeline_logistic = test_model(X_train, X_test, y_train, y_test, pipeline_logistic, name)\n",
    "\n",
    "print('\\n 4. logistic model with balanced class weight and PCA components:')\n",
    "clf_logistic = LogisticRegression(solver='liblinear',max_iter=100,class_weight='balanced')\n",
    "pipeline_logistic = Pipeline([\n",
    "    (\"scaler\", scaler), \n",
    "    (\"model\", clf_logistic)\n",
    "])\n",
    "pipeline_logistic = test_model(X_train_pca, X_test_pca, y_train, y_test, pipeline_logistic, name)\n",
    "\n",
    "print('\\n 5. logistic model with balanced datasets:')\n",
    "clf_logistic = LogisticRegression(solver='liblinear',max_iter=100)\n",
    "pipeline_logistic = Pipeline([\n",
    "    (\"scaler\", scaler), \n",
    "    (\"model\", clf_logistic)\n",
    "])\n",
    "pipeline_logistic = test_model(X_train_over, X_test, y_train_over, y_test, pipeline_logistic, name)"
   ]
  },
  {
   "cell_type": "markdown",
   "metadata": {},
   "source": [
    "**Conclusion**\n",
    "\n",
    "1. logistic regression with unbalanced class weight has good accuracy but low F-beta score.\n",
    "2. Adding balanced class weight to handle imbalanced data problem increases the F-beta score, but the accuracy drops greatly.\n",
    "3. Using PCA components does not improve the performance in any way.\n",
    "4. Using balanced datasets shows best performance."
   ]
  },
  {
   "cell_type": "markdown",
   "metadata": {},
   "source": [
    "## Benchmark Model: naive bayes"
   ]
  },
  {
   "cell_type": "code",
   "execution_count": 22,
   "metadata": {
    "ExecuteTime": {
     "end_time": "2020-10-28T08:14:54.103127Z",
     "start_time": "2020-10-28T08:14:54.069099Z"
    }
   },
   "outputs": [
    {
     "name": "stdout",
     "output_type": "stream",
     "text": [
      "Model: Naive Bayes in-sample Accuracy: 92.1%, Recall: 17.6%, Precision: 29.1%,          F-beta 19.1%\n",
      "Model: Naive Bayes out-of-sample Accuracy: 92.2%, Recall: 22.2%, Precision: 35.0%,          F-beta: 24.0%\n"
     ]
    }
   ],
   "source": [
    "name = 'Naive Bayes'\n",
    "clf_nb = GaussianNB()\n",
    "pipeline_nb = Pipeline([\n",
    "    (\"scaler\", scaler), \n",
    "    (\"model\", clf_nb)\n",
    "])\n",
    "\n",
    "pipeline_nb = test_model(X_train, X_test, y_train, y_test, pipeline_nb, name)"
   ]
  },
  {
   "cell_type": "markdown",
   "metadata": {},
   "source": [
    "**Conclusion**\n",
    "\n",
    "Naive bayes has strong performance in F-beta score, but has poor accuracy. We will not use this model later."
   ]
  },
  {
   "cell_type": "markdown",
   "metadata": {},
   "source": [
    "## Decison Tree"
   ]
  },
  {
   "cell_type": "code",
   "execution_count": 23,
   "metadata": {
    "ExecuteTime": {
     "end_time": "2020-10-28T08:14:55.093528Z",
     "start_time": "2020-10-28T08:14:54.106133Z"
    }
   },
   "outputs": [
    {
     "name": "stdout",
     "output_type": "stream",
     "text": [
      "\n",
      " 1. decision tree with imbalanced class weight:\n",
      "Model: decision_tree in-sample Accuracy: 100.0%, Recall: 100.0%, Precision: 100.0%,          F-beta 100.0%\n",
      "Model: decision_tree out-of-sample Accuracy: 94.0%, Recall: 46.0%, Precision: 54.7%,          F-beta: 47.5%\n"
     ]
    },
    {
     "data": {
      "image/png": "[encoded data removed]",
      "text/plain": [
       "<Figure size 432x288 with 1 Axes>"
      ]
     },
     "metadata": {
      "needs_background": "light"
     },
     "output_type": "display_data"
    },
    {
     "name": "stdout",
     "output_type": "stream",
     "text": [
      "\n",
      " 2. decision tree with balanced class weight:\n",
      "Model: decision_tree in-sample Accuracy: 100.0%, Recall: 100.0%, Precision: 100.0%,          F-beta 100.0%\n",
      "Model: decision_tree out-of-sample Accuracy: 93.2%, Recall: 47.6%, Precision: 47.6%,          F-beta: 47.6%\n",
      "\n",
      " 3. decision tree with balanced class weight and PCA components:\n",
      "Model: decision_tree in-sample Accuracy: 100.0%, Recall: 100.0%, Precision: 100.0%,          F-beta 100.0%\n",
      "Model: decision_tree out-of-sample Accuracy: 91.0%, Recall: 22.2%, Precision: 26.9%,          F-beta: 23.0%\n",
      "\n",
      " 4. decision tree with balanced datasets:\n",
      "Model: decision_tree in-sample Accuracy: 100.0%, Recall: 100.0%, Precision: 100.0%,          F-beta 100.0%\n",
      "Model: decision_tree out-of-sample Accuracy: 92.9%, Recall: 34.9%, Precision: 44.9%,          F-beta: 36.5%\n"
     ]
    }
   ],
   "source": [
    "print('\\n 1. decision tree with imbalanced class weight:')\n",
    "name = 'decision_tree'\n",
    "clf_dt = DecisionTreeClassifier(random_state=0)\n",
    "pipeline_dt = Pipeline([\n",
    "    (\"scaler\", scaler), \n",
    "    (\"model\", clf_dt)\n",
    "])\n",
    "pipeline_dt = test_model(X_train, X_test, y_train, y_test, pipeline_dt, name,cv=False, show_confusion=False, roc_curve=True)\n",
    "\n",
    "print('\\n 2. decision tree with balanced class weight:')\n",
    "name = 'decision_tree'\n",
    "clf_dt = DecisionTreeClassifier(random_state=0, class_weight='balanced')\n",
    "pipeline_dt = Pipeline([\n",
    "    (\"scaler\", scaler), \n",
    "    (\"model\", clf_dt)\n",
    "])\n",
    "pipeline_dt = test_model(X_train, X_test, y_train, y_test, pipeline_dt, name)\n",
    "\n",
    "print('\\n 3. decision tree with balanced class weight and PCA components:')\n",
    "name = 'decision_tree'\n",
    "clf_dt = DecisionTreeClassifier(random_state=0, class_weight='balanced')\n",
    "pipeline_dt = Pipeline([\n",
    "    (\"scaler\", scaler), \n",
    "    (\"model\", clf_dt)\n",
    "])\n",
    "pipeline_dt = test_model(X_train_pca, X_test_pca, y_train, y_test, pipeline_dt, name)\n",
    "\n",
    "print('\\n 4. decision tree with balanced datasets:')\n",
    "name = 'decision_tree'\n",
    "clf_dt = DecisionTreeClassifier(random_state=0)\n",
    "pipeline_dt = Pipeline([\n",
    "    (\"scaler\", scaler), \n",
    "    (\"model\", clf_dt)\n",
    "])\n",
    "pipeline_dt = test_model(X_train_over, X_test, y_train_over, y_test, pipeline_dt, name)\n"
   ]
  },
  {
   "cell_type": "markdown",
   "metadata": {},
   "source": [
    "## More models and ensembling"
   ]
  },
  {
   "cell_type": "code",
   "execution_count": 24,
   "metadata": {
    "ExecuteTime": {
     "end_time": "2020-10-28T08:15:37.905215Z",
     "start_time": "2020-10-28T08:14:55.094524Z"
    }
   },
   "outputs": [
    {
     "name": "stdout",
     "output_type": "stream",
     "text": [
      "-------------------------------------\n",
      "Classifier: Logistic\n",
      "1. With original features:\n",
      "Model: Logistic in-sample Accuracy: 93.6%, Recall: 5.7%, Precision: 48.3%,          F-beta 7.0%\n",
      "Model: Logistic out-of-sample Accuracy: 93.4%, Recall: 11.1%, Precision: 46.7%,          F-beta: 13.1%\n",
      "2. With PCA features:\n",
      "Model: Logistic in-sample Accuracy: 93.5%, Recall: 0.4%, Precision: 14.3%,          F-beta 0.5%\n",
      "Model: Logistic out-of-sample Accuracy: 93.5%, Recall: 3.2%, Precision: 50.0%,          F-beta: 3.9%\n",
      "3. With balanced data features:\n",
      "Model: Logistic in-sample Accuracy: 79.6%, Recall: 78.2%, Precision: 80.4%,          F-beta 78.7%\n",
      "Model: Logistic out-of-sample Accuracy: 77.9%, Recall: 65.1%, Precision: 17.7%,          F-beta: 42.4%\n",
      "-------------------------------------\n",
      "-------------------------------------\n",
      "Classifier: NearestNeighbors\n",
      "1. With original features:\n",
      "Model: NearestNeighbors in-sample Accuracy: 94.6%, Recall: 20.9%, Precision: 77.3%,          F-beta 24.5%\n",
      "Model: NearestNeighbors out-of-sample Accuracy: 92.7%, Recall: 4.8%, Precision: 23.1%,          F-beta: 5.7%\n",
      "2. With PCA features:\n",
      "Model: NearestNeighbors in-sample Accuracy: 94.5%, Recall: 25.8%, Precision: 68.5%,          F-beta 29.5%\n",
      "Model: NearestNeighbors out-of-sample Accuracy: 92.8%, Recall: 12.7%, Precision: 36.4%,          F-beta: 14.6%\n",
      "3. With balanced data features:\n",
      "Model: NearestNeighbors in-sample Accuracy: 96.5%, Recall: 100.0%, Precision: 93.4%,          F-beta 98.6%\n",
      "Model: NearestNeighbors out-of-sample Accuracy: 86.4%, Recall: 34.9%, Precision: 19.6%,          F-beta: 30.2%\n",
      "-------------------------------------\n",
      "-------------------------------------\n",
      "Classifier: SVC\n",
      "1. With original features:\n",
      "Model: SVC in-sample Accuracy: 84.4%, Recall: 73.4%, Precision: 25.1%,          F-beta 53.0%\n",
      "Model: SVC out-of-sample Accuracy: 81.4%, Recall: 58.7%, Precision: 19.5%,          F-beta: 41.9%\n",
      "2. With PCA features:\n",
      "Model: SVC in-sample Accuracy: 66.3%, Recall: 76.2%, Precision: 13.0%,          F-beta 38.7%\n",
      "Model: SVC out-of-sample Accuracy: 64.3%, Recall: 58.7%, Precision: 10.4%,          F-beta: 30.5%\n",
      "3. With balanced data features:\n",
      "Model: SVC in-sample Accuracy: 79.0%, Recall: 72.6%, Precision: 83.3%,          F-beta 74.5%\n",
      "Model: SVC out-of-sample Accuracy: 82.6%, Recall: 57.1%, Precision: 20.3%,          F-beta: 42.0%\n",
      "-------------------------------------\n",
      "-------------------------------------\n",
      "Classifier: DecisionTree\n",
      "1. With original features:\n",
      "Model: DecisionTree in-sample Accuracy: 100.0%, Recall: 100.0%, Precision: 100.0%,          F-beta 100.0%\n",
      "Model: DecisionTree out-of-sample Accuracy: 94.0%, Recall: 46.0%, Precision: 54.7%,          F-beta: 47.5%\n",
      "2. With PCA features:\n",
      "Model: DecisionTree in-sample Accuracy: 100.0%, Recall: 100.0%, Precision: 100.0%,          F-beta 100.0%\n",
      "Model: DecisionTree out-of-sample Accuracy: 90.8%, Recall: 23.8%, Precision: 26.8%,          F-beta: 24.4%\n",
      "3. With balanced data features:\n",
      "Model: DecisionTree in-sample Accuracy: 100.0%, Recall: 100.0%, Precision: 100.0%,          F-beta 100.0%\n",
      "Model: DecisionTree out-of-sample Accuracy: 92.9%, Recall: 34.9%, Precision: 44.9%,          F-beta: 36.5%\n",
      "-------------------------------------\n",
      "-------------------------------------\n",
      "Classifier: RandomForest\n",
      "1. With original features:\n",
      "Model: RandomForest in-sample Accuracy: 92.5%, Recall: 80.7%, Precision: 44.9%,          F-beta 69.6%\n",
      "Model: RandomForest out-of-sample Accuracy: 88.9%, Recall: 42.9%, Precision: 27.6%,          F-beta: 38.6%\n",
      "2. With PCA features:\n",
      "Model: RandomForest in-sample Accuracy: 88.7%, Recall: 82.0%, Precision: 33.8%,          F-beta 63.8%\n",
      "Model: RandomForest out-of-sample Accuracy: 84.4%, Recall: 50.8%, Precision: 21.2%,          F-beta: 39.7%\n",
      "3. With balanced data features:\n",
      "Model: RandomForest in-sample Accuracy: 89.7%, Recall: 87.2%, Precision: 91.7%,          F-beta 88.1%\n",
      "Model: RandomForest out-of-sample Accuracy: 88.5%, Recall: 52.4%, Precision: 28.9%,          F-beta: 45.1%\n",
      "-------------------------------------\n",
      "-------------------------------------\n",
      "Classifier: NeuralNet\n",
      "1. With original features:\n",
      "Model: NeuralNet in-sample Accuracy: 96.2%, Recall: 43.4%, Precision: 91.4%,          F-beta 48.5%\n",
      "Model: NeuralNet out-of-sample Accuracy: 93.4%, Recall: 25.4%, Precision: 48.5%,          F-beta: 28.1%\n",
      "2. With PCA features:\n",
      "Model: NeuralNet in-sample Accuracy: 93.7%, Recall: 1.2%, Precision: 60.0%,          F-beta 1.5%\n",
      "Model: NeuralNet out-of-sample Accuracy: 93.5%, Recall: 1.6%, Precision: 50.0%,          F-beta: 2.0%\n",
      "3. With balanced data features:\n",
      "Model: NeuralNet in-sample Accuracy: 96.0%, Recall: 96.7%, Precision: 95.4%,          F-beta 96.5%\n",
      "Model: NeuralNet out-of-sample Accuracy: 89.6%, Recall: 58.7%, Precision: 33.3%,          F-beta: 51.0%\n",
      "-------------------------------------\n",
      "-------------------------------------\n",
      "Classifier: AdaBoost\n",
      "1. With original features:\n",
      "Model: AdaBoost in-sample Accuracy: 96.8%, Recall: 57.8%, Precision: 87.0%,          F-beta 62.0%\n",
      "Model: AdaBoost out-of-sample Accuracy: 95.2%, Recall: 34.9%, Precision: 81.5%,          F-beta: 39.4%\n",
      "2. With PCA features:\n",
      "Model: AdaBoost in-sample Accuracy: 94.4%, Recall: 27.0%, Precision: 64.7%,          F-beta 30.6%\n",
      "Model: AdaBoost out-of-sample Accuracy: 92.8%, Recall: 14.3%, Precision: 37.5%,          F-beta: 16.3%\n",
      "3. With balanced data features:\n",
      "Model: AdaBoost in-sample Accuracy: 92.4%, Recall: 92.2%, Precision: 92.6%,          F-beta 92.3%\n",
      "Model: AdaBoost out-of-sample Accuracy: 90.7%, Recall: 69.8%, Precision: 38.3%,          F-beta: 59.9%\n",
      "-------------------------------------\n",
      "-------------------------------------\n",
      "Classifier: GradientBoosting\n",
      "1. With original features:\n",
      "Model: GradientBoosting in-sample Accuracy: 98.8%, Recall: 80.7%, Precision: 100.0%,          F-beta 84.0%\n",
      "Model: GradientBoosting out-of-sample Accuracy: 95.5%, Recall: 38.1%, Precision: 85.7%,          F-beta: 42.9%\n",
      "2. With PCA features:\n",
      "Model: GradientBoosting in-sample Accuracy: 96.3%, Recall: 46.7%, Precision: 90.5%,          F-beta 51.7%\n",
      "Model: GradientBoosting out-of-sample Accuracy: 94.0%, Recall: 20.6%, Precision: 61.9%,          F-beta: 23.8%\n",
      "3. With balanced data features:\n",
      "Model: GradientBoosting in-sample Accuracy: 97.5%, Recall: 98.7%, Precision: 96.4%,          F-beta 98.2%\n",
      "Model: GradientBoosting out-of-sample Accuracy: 93.5%, Recall: 71.4%, Precision: 50.0%,          F-beta: 65.8%\n",
      "-------------------------------------\n"
     ]
    }
   ],
   "source": [
    "names = [\n",
    "    'Logistic',    \n",
    "    \"NearestNeighbors\",\n",
    "    \"SVC\",\n",
    "    \"DecisionTree\",\n",
    "    \"RandomForest\",\n",
    "    \"NeuralNet\",\n",
    "    \"AdaBoost\",\n",
    "    \"GradientBoosting\"]\n",
    "\n",
    "classifiers = [\n",
    "    LogisticRegression(),\n",
    "    KNeighborsClassifier(),\n",
    "    SVC(gamma=\"scale\", class_weight=\"balanced\"),    \n",
    "    DecisionTreeClassifier(random_state=0),\n",
    "    RandomForestClassifier(max_depth=5,class_weight='balanced'),\n",
    "    MLPClassifier(),\n",
    "    AdaBoostClassifier(),\n",
    "    GradientBoostingClassifier(n_estimators=100)]\n",
    "\n",
    "clf_pipeline_lst = []\n",
    "for name, clf in zip(names, classifiers):\n",
    "    print('-------------------------------------')\n",
    "    print('Classifier: {}'.format(name))\n",
    "    clf_pipeline = Pipeline([ \n",
    "        (\"scaler\", scaler), \n",
    "        (\"model\", clf)\n",
    "    ])\n",
    "    print('1. With original features:')\n",
    "    clf_pipeline = test_model(X_train, X_test, y_train, y_test, clf_pipeline, name)\n",
    "    print('2. With PCA features:')    \n",
    "    clf_pipeline = test_model(X_train_pca, X_test_pca, y_train, y_test, clf_pipeline, name)\n",
    "    print('3. With balanced data features:')\n",
    "    clf_pipeline = test_model(X_train_over, X_test, y_train_over, y_test, clf_pipeline, name)\n",
    "\n",
    "    print('-------------------------------------')\n",
    "    clf_pipeline_lst.append(clf_pipeline)"
   ]
  },
  {
   "cell_type": "markdown",
   "metadata": {},
   "source": [
    "We can see that \n",
    "\n",
    "1. DecisionTree, RandomForest, AdaBoost models both provides high accuracy and F-beta score. We will combine those models using voting classifier.\n",
    "2. Using original features instead of PCA features always make better performance.\n",
    "3. Using balanced datasets shows great performance."
   ]
  },
  {
   "cell_type": "code",
   "execution_count": 25,
   "metadata": {
    "ExecuteTime": {
     "end_time": "2020-10-28T08:15:51.849152Z",
     "start_time": "2020-10-28T08:15:37.906213Z"
    }
   },
   "outputs": [
    {
     "name": "stdout",
     "output_type": "stream",
     "text": [
      "Model: VotingClassifier in-sample Accuracy: 97.5%, Recall: 98.3%, Precision: 96.8%,          F-beta 98.0%\n",
      "Model: VotingClassifier out-of-sample Accuracy: 93.6%, Recall: 71.4%, Precision: 50.6%,          F-beta: 66.0%\n"
     ]
    }
   ],
   "source": [
    "clf1 = DecisionTreeClassifier(max_depth=7,class_weight='balanced')\n",
    "clf2 = RandomForestClassifier(max_depth=5,class_weight='balanced')\n",
    "clf3 = AdaBoostClassifier()\n",
    "clf4 = MLPClassifier(alpha=1, max_iter=1000)\n",
    "clf5 = GradientBoostingClassifier(n_estimators=100)\n",
    "\n",
    "name = 'VotingClassifier'\n",
    "eclf = VotingClassifier(estimators=\n",
    "                        [\n",
    "                         ('clf1', clf1),\n",
    "                         ('clf2', clf2),\n",
    "                         ('clf3', clf3), \n",
    "                         ('clf4', clf4),\n",
    "                         ('clf5', clf5)],                        \n",
    "                        weights=[1,1,1,2,5],\n",
    "                        voting='hard') \n",
    "\n",
    "voting_pipeline = Pipeline([ \n",
    "        (\"scaler\", scaler), \n",
    "        (\"model\", eclf)\n",
    "    ])\n",
    "voting_pipeline = test_model(X_train_over, X_test, y_train_over, y_test, voting_pipeline, name)\n"
   ]
  },
  {
   "cell_type": "markdown",
   "metadata": {},
   "source": [
    "## Error analysis"
   ]
  },
  {
   "cell_type": "markdown",
   "metadata": {},
   "source": [
    "Since the features dimensions are high, it is hard to find a pattern for a wrong classification. We will use some ways to visualize the wrong cases."
   ]
  },
  {
   "cell_type": "code",
   "execution_count": 26,
   "metadata": {
    "ExecuteTime": {
     "end_time": "2020-10-28T08:15:51.910693Z",
     "start_time": "2020-10-28T08:15:51.851153Z"
    }
   },
   "outputs": [
    {
     "data": {
      "text/html": [
       "<div>\n",
       "<style scoped>\n",
       "    .dataframe tbody tr th:only-of-type {\n",
       "        vertical-align: middle;\n",
       "    }\n",
       "\n",
       "    .dataframe tbody tr th {\n",
       "        vertical-align: top;\n",
       "    }\n",
       "\n",
       "    .dataframe thead th {\n",
       "        text-align: right;\n",
       "    }\n",
       "</style>\n",
       "<table border=\"1\" class=\"dataframe\">\n",
       "  <thead>\n",
       "    <tr style=\"text-align: right;\">\n",
       "      <th></th>\n",
       "      <th>X1</th>\n",
       "      <th>X2</th>\n",
       "      <th>X3</th>\n",
       "      <th>X4</th>\n",
       "      <th>X5</th>\n",
       "      <th>X6</th>\n",
       "      <th>X7</th>\n",
       "      <th>X8</th>\n",
       "      <th>X9</th>\n",
       "      <th>X10</th>\n",
       "      <th>...</th>\n",
       "      <th>X57</th>\n",
       "      <th>X58</th>\n",
       "      <th>X59</th>\n",
       "      <th>X60</th>\n",
       "      <th>X61</th>\n",
       "      <th>X62</th>\n",
       "      <th>X63</th>\n",
       "      <th>X64</th>\n",
       "      <th>y_real</th>\n",
       "      <th>y_pred</th>\n",
       "    </tr>\n",
       "  </thead>\n",
       "  <tbody>\n",
       "    <tr>\n",
       "      <th>1011</th>\n",
       "      <td>0.038369</td>\n",
       "      <td>0.75192</td>\n",
       "      <td>0.15829</td>\n",
       "      <td>1.25610</td>\n",
       "      <td>-145.050</td>\n",
       "      <td>-0.010509</td>\n",
       "      <td>0.049303</td>\n",
       "      <td>0.330190</td>\n",
       "      <td>1.1875</td>\n",
       "      <td>0.248270</td>\n",
       "      <td>...</td>\n",
       "      <td>0.15455</td>\n",
       "      <td>0.94495</td>\n",
       "      <td>0.54125</td>\n",
       "      <td>1.9972</td>\n",
       "      <td>17.0840</td>\n",
       "      <td>189.970</td>\n",
       "      <td>1.9214</td>\n",
       "      <td>5.3059</td>\n",
       "      <td>1</td>\n",
       "      <td>0</td>\n",
       "    </tr>\n",
       "    <tr>\n",
       "      <th>1692</th>\n",
       "      <td>0.026393</td>\n",
       "      <td>0.87172</td>\n",
       "      <td>-0.20206</td>\n",
       "      <td>0.67986</td>\n",
       "      <td>-209.050</td>\n",
       "      <td>0.000000</td>\n",
       "      <td>0.026393</td>\n",
       "      <td>0.147160</td>\n",
       "      <td>1.1413</td>\n",
       "      <td>0.128280</td>\n",
       "      <td>...</td>\n",
       "      <td>0.20574</td>\n",
       "      <td>0.70836</td>\n",
       "      <td>1.87460</td>\n",
       "      <td>8.1829</td>\n",
       "      <td>3.9957</td>\n",
       "      <td>201.860</td>\n",
       "      <td>1.8082</td>\n",
       "      <td>1.9991</td>\n",
       "      <td>0</td>\n",
       "      <td>1</td>\n",
       "    </tr>\n",
       "    <tr>\n",
       "      <th>1022</th>\n",
       "      <td>-0.158900</td>\n",
       "      <td>0.72937</td>\n",
       "      <td>-0.34444</td>\n",
       "      <td>0.52775</td>\n",
       "      <td>-73.942</td>\n",
       "      <td>-0.219630</td>\n",
       "      <td>-0.158900</td>\n",
       "      <td>0.371050</td>\n",
       "      <td>1.1777</td>\n",
       "      <td>0.270630</td>\n",
       "      <td>...</td>\n",
       "      <td>-0.58714</td>\n",
       "      <td>1.09960</td>\n",
       "      <td>0.00000</td>\n",
       "      <td>3932.0000</td>\n",
       "      <td>3.0744</td>\n",
       "      <td>226.060</td>\n",
       "      <td>1.6146</td>\n",
       "      <td>1.9147</td>\n",
       "      <td>0</td>\n",
       "      <td>1</td>\n",
       "    </tr>\n",
       "    <tr>\n",
       "      <th>2457</th>\n",
       "      <td>0.238070</td>\n",
       "      <td>0.91537</td>\n",
       "      <td>-0.31899</td>\n",
       "      <td>0.61890</td>\n",
       "      <td>-78.523</td>\n",
       "      <td>-0.193480</td>\n",
       "      <td>0.309340</td>\n",
       "      <td>0.092461</td>\n",
       "      <td>2.7125</td>\n",
       "      <td>0.084636</td>\n",
       "      <td>...</td>\n",
       "      <td>2.81280</td>\n",
       "      <td>0.88644</td>\n",
       "      <td>0.00000</td>\n",
       "      <td>17.8280</td>\n",
       "      <td>10.0960</td>\n",
       "      <td>112.630</td>\n",
       "      <td>3.2406</td>\n",
       "      <td>5.6282</td>\n",
       "      <td>0</td>\n",
       "      <td>1</td>\n",
       "    </tr>\n",
       "    <tr>\n",
       "      <th>3986</th>\n",
       "      <td>-0.201150</td>\n",
       "      <td>0.13881</td>\n",
       "      <td>0.51086</td>\n",
       "      <td>4.91510</td>\n",
       "      <td>84.763</td>\n",
       "      <td>-0.359030</td>\n",
       "      <td>-0.201150</td>\n",
       "      <td>6.204300</td>\n",
       "      <td>1.8003</td>\n",
       "      <td>0.861200</td>\n",
       "      <td>...</td>\n",
       "      <td>-0.23357</td>\n",
       "      <td>1.10430</td>\n",
       "      <td>0.00000</td>\n",
       "      <td>96.6950</td>\n",
       "      <td>4.1097</td>\n",
       "      <td>26.455</td>\n",
       "      <td>13.7970</td>\n",
       "      <td>5.0194</td>\n",
       "      <td>0</td>\n",
       "      <td>1</td>\n",
       "    </tr>\n",
       "  </tbody>\n",
       "</table>\n",
       "<p>5 rows × 65 columns</p>\n",
       "</div>"
      ],
      "text/plain": [
       "            X1       X2       X3       X4       X5        X6        X7  \\\n",
       "1011  0.038369  0.75192  0.15829  1.25610 -145.050 -0.010509  0.049303   \n",
       "1692  0.026393  0.87172 -0.20206  0.67986 -209.050  0.000000  0.026393   \n",
       "1022 -0.158900  0.72937 -0.34444  0.52775  -73.942 -0.219630 -0.158900   \n",
       "2457  0.238070  0.91537 -0.31899  0.61890  -78.523 -0.193480  0.309340   \n",
       "3986 -0.201150  0.13881  0.51086  4.91510   84.763 -0.359030 -0.201150   \n",
       "\n",
       "            X8      X9       X10  ...      X57      X58      X59        X60  \\\n",
       "1011  0.330190  1.1875  0.248270  ...  0.15455  0.94495  0.54125     1.9972   \n",
       "1692  0.147160  1.1413  0.128280  ...  0.20574  0.70836  1.87460     8.1829   \n",
       "1022  0.371050  1.1777  0.270630  ... -0.58714  1.09960  0.00000  3932.0000   \n",
       "2457  0.092461  2.7125  0.084636  ...  2.81280  0.88644  0.00000    17.8280   \n",
       "3986  6.204300  1.8003  0.861200  ... -0.23357  1.10430  0.00000    96.6950   \n",
       "\n",
       "          X61      X62      X63     X64  y_real  y_pred  \n",
       "1011  17.0840  189.970   1.9214  5.3059       1       0  \n",
       "1692   3.9957  201.860   1.8082  1.9991       0       1  \n",
       "1022   3.0744  226.060   1.6146  1.9147       0       1  \n",
       "2457  10.0960  112.630   3.2406  5.6282       0       1  \n",
       "3986   4.1097   26.455  13.7970  5.0194       0       1  \n",
       "\n",
       "[5 rows x 65 columns]"
      ]
     },
     "execution_count": 26,
     "metadata": {},
     "output_type": "execute_result"
    }
   ],
   "source": [
    "y_test_pred = voting_pipeline.predict(X_test)\n",
    "\n",
    "error_index = y_test_pred != y_test\n",
    "showdata = X_test.copy()\n",
    "showdata['y_real'] = y_test\n",
    "showdata['y_pred'] = y_test_pred\n",
    "showdata.loc[error_index].head()"
   ]
  },
  {
   "cell_type": "markdown",
   "metadata": {},
   "source": [
    "# Fine tuning"
   ]
  },
  {
   "cell_type": "markdown",
   "metadata": {
    "ExecuteTime": {
     "end_time": "2020-10-27T15:24:02.567757Z",
     "start_time": "2020-10-27T15:23:41.392Z"
    }
   },
   "source": [
    "## Grid search\n",
    "\n",
    "We will grid search the parameters based on f-beta scores. However other parameters does not improve the performance."
   ]
  },
  {
   "cell_type": "code",
   "execution_count": 27,
   "metadata": {
    "ExecuteTime": {
     "end_time": "2020-10-28T08:24:38.048989Z",
     "start_time": "2020-10-28T08:15:51.911693Z"
    }
   },
   "outputs": [
    {
     "name": "stdout",
     "output_type": "stream",
     "text": [
      "Model: VotingClassifier in-sample Accuracy: 97.7%, Recall: 98.7%, Precision: 96.8%,          F-beta 98.3%\n",
      "Model: VotingClassifier out-of-sample Accuracy: 93.6%, Recall: 71.4%, Precision: 50.6%,          F-beta: 66.0%\n"
     ]
    }
   ],
   "source": [
    "from sklearn.model_selection import GridSearchCV\n",
    "from sklearn.metrics import fbeta_score, make_scorer\n",
    "\n",
    "ftwo_scorer = make_scorer(fbeta_score, beta=2)\n",
    "\n",
    "params = {\n",
    "    'clf2__max_depth': [3,5,7],\n",
    "    'clf3__n_estimators': [25,50,100]\n",
    "         }\n",
    "grid_clf_pipeline = Pipeline([ \n",
    "        (\"scaler\", scaler), \n",
    "        (\"model\", GridSearchCV(estimator=eclf, param_grid=params, cv=5, scoring=ftwo_scorer))\n",
    "    ])\n",
    "grid_clf_pipeline = test_model(X_train_over, X_test, y_train_over, y_test, grid_clf_pipeline, name)\n"
   ]
  },
  {
   "cell_type": "code",
   "execution_count": 28,
   "metadata": {
    "ExecuteTime": {
     "end_time": "2020-10-28T08:24:38.055992Z",
     "start_time": "2020-10-28T08:24:38.050989Z"
    }
   },
   "outputs": [
    {
     "data": {
      "text/plain": [
       "{'clf2__max_depth': 7, 'clf3__n_estimators': 100}"
      ]
     },
     "execution_count": 28,
     "metadata": {},
     "output_type": "execute_result"
    }
   ],
   "source": [
    "grid_clf_pipeline['model'].best_params_"
   ]
  },
  {
   "cell_type": "markdown",
   "metadata": {},
   "source": [
    "## Final model"
   ]
  },
  {
   "cell_type": "code",
   "execution_count": 29,
   "metadata": {
    "ExecuteTime": {
     "end_time": "2020-10-28T08:24:57.453800Z",
     "start_time": "2020-10-28T08:24:38.057992Z"
    }
   },
   "outputs": [
    {
     "data": {
      "text/plain": [
       "Pipeline(memory=None,\n",
       "         steps=[('scaler',\n",
       "                 StandardScaler(copy=True, with_mean=True, with_std=True)),\n",
       "                ('model',\n",
       "                 VotingClassifier(estimators=[('clf1',\n",
       "                                               DecisionTreeClassifier(ccp_alpha=0.0,\n",
       "                                                                      class_weight='balanced',\n",
       "                                                                      criterion='gini',\n",
       "                                                                      max_depth=7,\n",
       "                                                                      max_features=None,\n",
       "                                                                      max_leaf_nodes=None,\n",
       "                                                                      min_impurity_decrease=0.0,\n",
       "                                                                      min_impurity_split=None,\n",
       "                                                                      min_samples_leaf=1,\n",
       "                                                                      min_samples_s...\n",
       "                                                                          min_impurity_decrease=0.0,\n",
       "                                                                          min_impurity_split=None,\n",
       "                                                                          min_samples_leaf=1,\n",
       "                                                                          min_samples_split=2,\n",
       "                                                                          min_weight_fraction_leaf=0.0,\n",
       "                                                                          n_estimators=100,\n",
       "                                                                          n_iter_no_change=None,\n",
       "                                                                          presort='deprecated',\n",
       "                                                                          random_state=None,\n",
       "                                                                          subsample=1.0,\n",
       "                                                                          tol=0.0001,\n",
       "                                                                          validation_fraction=0.1,\n",
       "                                                                          verbose=0,\n",
       "                                                                          warm_start=False))],\n",
       "                                  flatten_transform=True, n_jobs=None,\n",
       "                                  voting='hard', weights=[1, 1, 1, 2, 5]))],\n",
       "         verbose=False)"
      ]
     },
     "execution_count": 29,
     "metadata": {},
     "output_type": "execute_result"
    }
   ],
   "source": [
    "# remove NaNs\n",
    "X_all = X.drop(columns=remove_columns) \n",
    "\n",
    "final_imputer_uni = SimpleImputer(missing_values=np.nan, strategy='mean')\n",
    "X_all[univariate_columns] = final_imputer_uni.fit_transform(X_all[univariate_columns])\n",
    "\n",
    "final_imputer_multi = KNNImputer(n_neighbors=5, weights=\"uniform\")\n",
    "X_all[X_all.columns] = final_imputer_multi.fit_transform(X_all[X_all.columns])\n",
    "\n",
    "X_all_over, y_over = over_sampling(X_all, y)\n",
    "\n",
    "\n",
    "## model\n",
    "clf1 = DecisionTreeClassifier(max_depth=7,class_weight='balanced')\n",
    "clf2 = RandomForestClassifier(max_depth=7,class_weight='balanced')\n",
    "clf3 = AdaBoostClassifier(n_estimators=100)\n",
    "clf4 = MLPClassifier(alpha=1, max_iter=1000)\n",
    "clf5 = GradientBoostingClassifier(n_estimators=100)\n",
    "\n",
    "eclf = VotingClassifier(estimators=\n",
    "                        [\n",
    "                         ('clf1', clf1),\n",
    "                         ('clf2', clf2),\n",
    "                         ('clf3', clf3), \n",
    "                         ('clf4', clf4),\n",
    "                         ('clf5', clf5)],                        \n",
    "                        weights=[1,1,1,2,5],\n",
    "                        voting='hard') \n",
    "\n",
    "final_pipeline = Pipeline([ \n",
    "        (\"scaler\", scaler), \n",
    "        (\"model\", eclf)\n",
    "    ])\n",
    "\n",
    "final_pipeline.fit(X_all_over, y_over)"
   ]
  },
  {
   "cell_type": "markdown",
   "metadata": {},
   "source": [
    "# Evaluating your project"
   ]
  },
  {
   "cell_type": "markdown",
   "metadata": {},
   "source": [
    "We will evaluate your submission on a test dataset that we provide\n",
    "- It has no labels, so **you** can't use it to evaluate your model, but **we** have the labels\n",
    "- We will call this evaluation dataset the \"holdout\" data\n",
    "\n",
    "Let's get it"
   ]
  },
  {
   "cell_type": "code",
   "execution_count": 30,
   "metadata": {
    "ExecuteTime": {
     "end_time": "2020-10-28T08:24:57.483337Z",
     "start_time": "2020-10-28T08:24:57.454806Z"
    }
   },
   "outputs": [
    {
     "name": "stdout",
     "output_type": "stream",
     "text": [
      "Data shape:  (1092, 65)\n"
     ]
    }
   ],
   "source": [
    "holdout_data = pd.read_csv( os.path.join(DATA_DIR, \"holdout\", '5th_yr.csv') )\n",
    "print(\"Data shape: \", holdout_data.shape)\n"
   ]
  },
  {
   "cell_type": "markdown",
   "metadata": {},
   "source": [
    "We will evaluate your model on the holdout examples using metrics\n",
    "- Accuracy\n",
    "- Recall\n",
    "- Precision\n",
    "\n",
    "From our lecture: we may have to make a trade-off between Recall and Precision.\n",
    "\n",
    "Our evaluation of your submission will be partially based on how you made (and described) the trade-off.\n",
    "\n",
    "You may assume that it is 5 times worse to *fail to identify a company that will go bankrupt*\n",
    "than it is to fail to identify a company that won't go bankrupt."
   ]
  },
  {
   "cell_type": "markdown",
   "metadata": {},
   "source": [
    "# Your model\n",
    "\n",
    "Time for you to continue the Recipe for Machine Learning on your own.\n",
    "\n"
   ]
  },
  {
   "cell_type": "markdown",
   "metadata": {},
   "source": [
    "## Submission guidelines\n",
    "\n",
    "Although your notebook may contain many models (e.g., due to your iterative development)\n",
    "we will only evaluate a single model.\n",
    "So choose one (explain why !) and do the following.\n",
    "\n",
    "- You will implement the body of a subroutine `MyModel`\n",
    "    - That takes as argument a Pandas DataFrame \n",
    "        - Each row is an example on which to predict\n",
    "        - The features of the example are elements of the row\n",
    "    - Performs predictions on each example\n",
    "    - Returns an array or predictions with a one-to-one correspondence with the examples in the test set\n",
    "    "
   ]
  },
  {
   "cell_type": "markdown",
   "metadata": {},
   "source": [
    "We will evaluate your model against the holdout data\n",
    "- By reading the holdout examples `X_hold` (as above)\n",
    "- Calling `y_hold_pred = MyModel(X_hold)` to get the predictions\n",
    "- Comparing the predicted values `y_hold_pred` against the true labels `y_hold` which are known only to the instructors\n",
    "\n",
    "See the following cell as an illustration"
   ]
  },
  {
   "cell_type": "raw",
   "metadata": {},
   "source": [
    "X_hold = pd.read_csv( os.path.join(DATA_DIR, \"holdout\", '5th_yr.csv') )\n",
    "\n",
    "# Predict using MyModel\n",
    "y_hold_pred = MyModel(X_hold)\n",
    "\n",
    "# Compute metrics\n",
    "# accuracy\n",
    "accuracy_hold = accuracy_score(y_hold, y_hold_pred)\n",
    "\n",
    "# recall_\n",
    "recall_hold = recall_score(y_hold, y_hold_pred, pos_label=1, average=\"binary\")\n",
    "\n",
    "# precision\n",
    "precision_hold = precision_score(y_hold,   y_hold_pred, pos_label=1, average=\"binary\")\n",
    "\n",
    "\n",
    "print(\"\\t{m:s} Accuracy: {a:3.1%}, Recall {r:3.1%}, Precision {p:3.1%}\".format(m=name,\n",
    "                                                                            a=accuracy_hold,\n",
    "                                                                            r=recall_hold,\n",
    "                                                                            p=precision_hold\n",
    "                                                                            )\n",
    "         )"
   ]
  },
  {
   "cell_type": "markdown",
   "metadata": {},
   "source": [
    "**Remember**\n",
    "\n",
    "The holdout data is in the same format as the one we used for training\n",
    "- Except that it has no attribute for the target\n",
    "- So you will need to perform all the transformations on the holdout data\n",
    "    - As you did on the training data\n",
    "    - Including turning the string representation of numbers into actual numeric data types\n",
    "\n",
    "All of this work *must* be performed within the body of the `MyModel` routine you will write\n",
    "\n",
    "We will grade you by comparing the predictions array you create to the answers known to us."
   ]
  },
  {
   "cell_type": "code",
   "execution_count": 31,
   "metadata": {
    "ExecuteTime": {
     "end_time": "2020-10-28T08:24:57.651583Z",
     "start_time": "2020-10-28T08:24:57.485318Z"
    }
   },
   "outputs": [
    {
     "ename": "NameError",
     "evalue": "name 'y_hold' is not defined",
     "output_type": "error",
     "traceback": [
      "\u001b[1;31m---------------------------------------------------------------------------\u001b[0m",
      "\u001b[1;31mNameError\u001b[0m                                 Traceback (most recent call last)",
      "\u001b[1;32m<ipython-input-31-68c6aa96373b>\u001b[0m in \u001b[0;36m<module>\u001b[1;34m\u001b[0m\n\u001b[0;32m     23\u001b[0m \u001b[1;33m\u001b[0m\u001b[0m\n\u001b[0;32m     24\u001b[0m \u001b[1;31m# Compute metrics\u001b[0m\u001b[1;33m\u001b[0m\u001b[1;33m\u001b[0m\u001b[1;33m\u001b[0m\u001b[0m\n\u001b[1;32m---> 25\u001b[1;33m \u001b[0maccuracy_hold\u001b[0m \u001b[1;33m=\u001b[0m \u001b[0maccuracy_score\u001b[0m\u001b[1;33m(\u001b[0m\u001b[0my_hold\u001b[0m\u001b[1;33m,\u001b[0m \u001b[0my_hold_pred\u001b[0m\u001b[1;33m)\u001b[0m\u001b[1;33m\u001b[0m\u001b[1;33m\u001b[0m\u001b[0m\n\u001b[0m\u001b[0;32m     26\u001b[0m \u001b[0mrecall_hold\u001b[0m \u001b[1;33m=\u001b[0m \u001b[0mrecall_score\u001b[0m\u001b[1;33m(\u001b[0m\u001b[0my_hold\u001b[0m\u001b[1;33m,\u001b[0m \u001b[0my_hold_pred\u001b[0m\u001b[1;33m,\u001b[0m \u001b[0mpos_label\u001b[0m\u001b[1;33m=\u001b[0m\u001b[1;36m1\u001b[0m\u001b[1;33m,\u001b[0m \u001b[0maverage\u001b[0m\u001b[1;33m=\u001b[0m\u001b[1;34m\"binary\"\u001b[0m\u001b[1;33m)\u001b[0m\u001b[1;33m\u001b[0m\u001b[1;33m\u001b[0m\u001b[0m\n\u001b[0;32m     27\u001b[0m \u001b[0mprecision_hold\u001b[0m \u001b[1;33m=\u001b[0m \u001b[0mprecision_score\u001b[0m\u001b[1;33m(\u001b[0m\u001b[0my_hold\u001b[0m\u001b[1;33m,\u001b[0m \u001b[0my_hold_pred\u001b[0m\u001b[1;33m,\u001b[0m \u001b[0mpos_label\u001b[0m\u001b[1;33m=\u001b[0m\u001b[1;36m1\u001b[0m\u001b[1;33m,\u001b[0m \u001b[0maverage\u001b[0m\u001b[1;33m=\u001b[0m\u001b[1;34m\"binary\"\u001b[0m\u001b[1;33m)\u001b[0m\u001b[1;33m\u001b[0m\u001b[1;33m\u001b[0m\u001b[0m\n",
      "\u001b[1;31mNameError\u001b[0m: name 'y_hold' is not defined"
     ]
    }
   ],
   "source": [
    "import pandas as pd\n",
    "import os\n",
    "\n",
    "def MyModel(X):\n",
    "    # It should create an array of predictions; we initialize it to the empty array for convenience\n",
    "    predictions = []\n",
    "    if 'Id' in X:\n",
    "        X = X.drop(columns=['Id'])\n",
    "    for col in X:\n",
    "        X[col]=pd.to_numeric(X[col], errors='coerce')\n",
    "\n",
    "    # drop sparse feature    \n",
    "    X = X.drop(columns=remove_columns)\n",
    "    \n",
    "    X[univariate_columns] = final_imputer_uni.transform(X[univariate_columns])\n",
    "    X[X.columns] = final_imputer_multi.transform(X[X.columns])\n",
    "        \n",
    "    predictions = final_pipeline.predict(X)\n",
    "    \n",
    "    return predictions\n",
    "name = 'VotingClassifer'\n",
    "y_hold_pred = MyModel(holdout_data)\n",
    "\n",
    "# Compute metrics\n",
    "accuracy_hold = accuracy_score(y_hold, y_hold_pred)\n",
    "recall_hold = recall_score(y_hold, y_hold_pred, pos_label=1, average=\"binary\")\n",
    "precision_hold = precision_score(y_hold, y_hold_pred, pos_label=1, average=\"binary\")\n",
    "\n",
    "\n",
    "print(\"\\t{m:s} Accuracy: {a:3.1%}, Recall {r:3.1%}, Precision {p:3.1%}\".format(m=name, a=accuracy_hold, r=recall_hold, p=precision_hold))"
   ]
  },
  {
   "cell_type": "markdown",
   "metadata": {},
   "source": [
    "# Check your work: predict and evaluate metrics on *your* test examples\n",
    "\n",
    "Although only the instructors have the correct labels for the holdout dataset, you may want\n",
    "to create your own test dataset on which to evaluate your out of sample metrics.\n",
    "\n",
    "If you choose to do so, you can evaluate your models using the same metrics that the instructors will use.\n",
    "\n",
    "- Test whether your implementation of `MyModel` works\n",
    "- See the metrics  your model produces"
   ]
  },
  {
   "cell_type": "code",
   "execution_count": 32,
   "metadata": {
    "ExecuteTime": {
     "end_time": "2020-10-28T10:36:37.438104Z",
     "start_time": "2020-10-28T10:36:37.357393Z"
    }
   },
   "outputs": [
    {
     "name": "stdout",
     "output_type": "stream",
     "text": [
      "\tVoting Classifer Accuracy: 97.0%, Recall 94.4%, Precision 72.0%\n"
     ]
    },
    {
     "name": "stderr",
     "output_type": "stream",
     "text": [
      "D:\\programs\\Anaconda3\\lib\\site-packages\\ipykernel_launcher.py:10: SettingWithCopyWarning: \n",
      "A value is trying to be set on a copy of a slice from a DataFrame.\n",
      "Try using .loc[row_indexer,col_indexer] = value instead\n",
      "\n",
      "See the caveats in the documentation: https://pandas.pydata.org/pandas-docs/stable/user_guide/indexing.html#returning-a-view-versus-a-copy\n",
      "  # Remove the CWD from sys.path while we load stuff.\n"
     ]
    }
   ],
   "source": [
    "from sklearn.utils import shuffle\n",
    "\n",
    "name = \"Voting Classifer\"\n",
    "y_check, X_check = shuffle(y, X, random_state=42)\n",
    "X_check_test = X_check.iloc[:1000,:]\n",
    "y_check_test = y_check.iloc[:1000]\n",
    "\n",
    "y_check_pred = MyModel(X_check_test)\n",
    "\n",
    "accuracy_test = accuracy_score(y_check_test, y_check_pred)\n",
    "recall_test = recall_score(y_check_test, y_check_pred, pos_label=1, average=\"binary\")\n",
    "precision_test = precision_score(y_check_test, y_check_pred, pos_label=1, average=\"binary\")\n",
    "\n",
    "print(\"\\t{m:s} Accuracy: {a:3.1%}, Recall {r:3.1%}, Precision {p:3.1%}\".format(m=name,\n",
    "                                                                            a=accuracy_test,\n",
    "                                                                            r=recall_test,\n",
    "                                                                            p=precision_test\n",
    "                                                                            )\n",
    "         )"
   ]
  },
  {
   "cell_type": "code",
   "execution_count": null,
   "metadata": {},
   "outputs": [],
   "source": []
  },
  {
   "cell_type": "code",
   "execution_count": null,
   "metadata": {},
   "outputs": [],
   "source": []
  }
 ],
 "metadata": {
  "kernelspec": {
   "display_name": "Python 3",
   "language": "python",
   "name": "python3"
  },
  "language_info": {
   "codemirror_mode": {
    "name": "ipython",
    "version": 3
   },
   "file_extension": ".py",
   "mimetype": "text/x-python",
   "name": "python",
   "nbconvert_exporter": "python",
   "pygments_lexer": "ipython3",
   "version": "3.7.6"
  },
  "toc": {
   "base_numbering": 1,
   "nav_menu": {},
   "number_sections": true,
   "sideBar": true,
   "skip_h1_title": false,
   "title_cell": "Table of Contents",
   "title_sidebar": "Contents",
   "toc_cell": false,
   "toc_position": {
    "height": "757px",
    "left": "22px",
    "top": "110px",
    "width": "370.594px"
   },
   "toc_section_display": true,
   "toc_window_display": true
  }
 },
 "nbformat": 4,
 "nbformat_minor": 2
}
